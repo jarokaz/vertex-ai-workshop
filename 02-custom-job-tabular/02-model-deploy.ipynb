{
 "cells": [
  {
   "cell_type": "markdown",
   "id": "69b30684",
   "metadata": {},
   "source": [
    "# Training and deploying a tabular model using Vertex custom training job - Part 2\n",
    "\n",
    "![Training pipeline](../images/custom-tabular.png)"
   ]
  },
  {
   "cell_type": "code",
   "execution_count": 1,
   "id": "88c238d6",
   "metadata": {},
   "outputs": [],
   "source": [
    "import os\n",
    "import pprint\n",
    "import pandas as pd\n",
    "import tensorflow as tf\n",
    "import time\n",
    "\n",
    "import matplotlib.pyplot as plt\n",
    "\n",
    "from google.cloud import aiplatform as vertex_ai\n",
    "from google.cloud.aiplatform_v1beta1 import types\n",
    "from google.cloud import bigquery\n",
    "from google.cloud import exceptions"
   ]
  },
  {
   "cell_type": "markdown",
   "id": "00187cbb",
   "metadata": {},
   "source": [
    "## Configure GCP settings\n"
   ]
  },
  {
   "cell_type": "code",
   "execution_count": 20,
   "id": "fa1a80cb",
   "metadata": {},
   "outputs": [
    {
     "name": "stdout",
     "output_type": "stream",
     "text": [
      "Project ID:  jk-vertex-workshop\n"
     ]
    }
   ],
   "source": [
    "PREFIX = 'jk1'\n",
    "\n",
    "shell_output=!gcloud config list --format 'value(core.project)' 2>/dev/null\n",
    "PROJECT = shell_output[0]\n",
    "print(\"Project ID: \", PROJECT)"
   ]
  },
  {
   "cell_type": "code",
   "execution_count": 2,
   "id": "44725ebc",
   "metadata": {},
   "outputs": [],
   "source": [
    "REGION = 'us-central1'\n",
    "STAGING_BUCKET = f'gs://{PREFIX}-bucket'\n",
    "VERTEX_SA = f'training-sa@{PROJECT}.iam.gserviceaccount.com'\n",
    "BQ_DATASET_NAME = f'{PREFIX}_dataset' \n",
    "BQ_TRAIN_SPLIT_NAME = 'training'\n",
    "BQ_VALID_SPLIT_NAME = 'validation'\n",
    "BQ_TEST_SPLIT_NAME = 'testing'"
   ]
  },
  {
   "cell_type": "markdown",
   "id": "69ae4ca7",
   "metadata": {},
   "source": [
    "## Deploying a model to Vertex AI"
   ]
  },
  {
   "cell_type": "markdown",
   "id": "e52efbc4",
   "metadata": {},
   "source": [
    "### Initialize Vertex AI SDK"
   ]
  },
  {
   "cell_type": "code",
   "execution_count": 3,
   "id": "41ac6d10",
   "metadata": {},
   "outputs": [],
   "source": [
    "vertex_ai.init(\n",
    "    project=PROJECT,\n",
    "    location=REGION,\n",
    "    staging_bucket=STAGING_BUCKET\n",
    ")"
   ]
  },
  {
   "cell_type": "markdown",
   "id": "a7bcce16",
   "metadata": {},
   "source": [
    "### List custom jobs"
   ]
  },
  {
   "cell_type": "code",
   "execution_count": 4,
   "id": "ae3b95d6",
   "metadata": {},
   "outputs": [
    {
     "name": "stdout",
     "output_type": "stream",
     "text": [
      "jk1_CUSTOM_SCRIPT projects/910094146258/locations/us-central1/customJobs/4225330826566434816 JobState.JOB_STATE_PENDING 2021-06-22 23:50:59.058859+00:00\n",
      "jk1_CUSTOM_SCRIPT projects/910094146258/locations/us-central1/customJobs/2295819861214887936 JobState.JOB_STATE_SUCCEEDED 2021-06-22 03:20:01.916193+00:00\n",
      "jk1_CUSTOM_SCRIPT projects/910094146258/locations/us-central1/customJobs/8617184888182800384 JobState.JOB_STATE_SUCCEEDED 2021-06-22 03:09:45.985600+00:00\n"
     ]
    }
   ],
   "source": [
    "search_filter = 'display_name=\"{}_CUSTOM_SCRIPT\"'.format(PREFIX)\n",
    "\n",
    "for job in vertex_ai.CustomJob.list(filter=search_filter, order_by='create_timedesc'):\n",
    "    print(job.display_name, job.resource_name, job.state, job.create_time)"
   ]
  },
  {
   "cell_type": "markdown",
   "id": "4f4151b2",
   "metadata": {},
   "source": [
    "### Wait for the oldest custom job to complete"
   ]
  },
  {
   "cell_type": "code",
   "execution_count": 5,
   "id": "1ce5613f",
   "metadata": {},
   "outputs": [
    {
     "name": "stdout",
     "output_type": "stream",
     "text": [
      "Job has completed\n"
     ]
    }
   ],
   "source": [
    "while True:\n",
    "    job_state = job.state\n",
    "    if job_state != vertex_ai.gapic.JobState.JOB_STATE_SUCCEEDED:\n",
    "        print(\"Job has not completed:\", job_state)\n",
    "        if (job_state == vertex_ai.gapic.JobState.JOB_STATE_FAILED or \n",
    "           job_state == vertex_ai.gapic.JobState.JOB_STATE_CANCELLED):\n",
    "            break\n",
    "    else:\n",
    "        print(\"Job has completed\")\n",
    "        break\n",
    "    time.sleep(60)"
   ]
  },
  {
   "cell_type": "markdown",
   "id": "c6896c5e",
   "metadata": {},
   "source": [
    "### Retrieve model artifacts"
   ]
  },
  {
   "cell_type": "code",
   "execution_count": 6,
   "id": "64004421",
   "metadata": {},
   "outputs": [],
   "source": [
    "saved_model_path = '{}/model'.format(job.job_spec.base_output_directory.output_uri_prefix)"
   ]
  },
  {
   "cell_type": "code",
   "execution_count": 7,
   "id": "ae9f4c82",
   "metadata": {},
   "outputs": [
    {
     "name": "stdout",
     "output_type": "stream",
     "text": [
      "gs://jk1-bucket/jobs/jk1_CUSTOM_SCRIPT/20210622_030944/model/\n",
      "gs://jk1-bucket/jobs/jk1_CUSTOM_SCRIPT/20210622_030944/model/saved_model.pb\n",
      "gs://jk1-bucket/jobs/jk1_CUSTOM_SCRIPT/20210622_030944/model/assets/\n",
      "gs://jk1-bucket/jobs/jk1_CUSTOM_SCRIPT/20210622_030944/model/variables/\n"
     ]
    }
   ],
   "source": [
    "!gsutil ls {saved_model_path}"
   ]
  },
  {
   "cell_type": "markdown",
   "id": "88f4dda1",
   "metadata": {},
   "source": [
    "### Inspect the model"
   ]
  },
  {
   "cell_type": "code",
   "execution_count": 8,
   "id": "447b41d9",
   "metadata": {},
   "outputs": [
    {
     "name": "stdout",
     "output_type": "stream",
     "text": [
      "The given SavedModel SignatureDef contains the following input(s):\n",
      "  inputs['dropoff_grid'] tensor_info:\n",
      "      dtype: DT_STRING\n",
      "      shape: (-1, 1)\n",
      "      name: serving_default_dropoff_grid:0\n",
      "  inputs['euclidean'] tensor_info:\n",
      "      dtype: DT_DOUBLE\n",
      "      shape: (-1, 1)\n",
      "      name: serving_default_euclidean:0\n",
      "  inputs['payment_type'] tensor_info:\n",
      "      dtype: DT_STRING\n",
      "      shape: (-1, 1)\n",
      "      name: serving_default_payment_type:0\n",
      "  inputs['pickup_grid'] tensor_info:\n",
      "      dtype: DT_STRING\n",
      "      shape: (-1, 1)\n",
      "      name: serving_default_pickup_grid:0\n",
      "  inputs['trip_day'] tensor_info:\n",
      "      dtype: DT_INT64\n",
      "      shape: (-1, 1)\n",
      "      name: serving_default_trip_day:0\n",
      "  inputs['trip_day_of_week'] tensor_info:\n",
      "      dtype: DT_INT64\n",
      "      shape: (-1, 1)\n",
      "      name: serving_default_trip_day_of_week:0\n",
      "  inputs['trip_hour'] tensor_info:\n",
      "      dtype: DT_INT64\n",
      "      shape: (-1, 1)\n",
      "      name: serving_default_trip_hour:0\n",
      "  inputs['trip_miles'] tensor_info:\n",
      "      dtype: DT_DOUBLE\n",
      "      shape: (-1, 1)\n",
      "      name: serving_default_trip_miles:0\n",
      "  inputs['trip_month'] tensor_info:\n",
      "      dtype: DT_INT64\n",
      "      shape: (-1, 1)\n",
      "      name: serving_default_trip_month:0\n",
      "  inputs['trip_seconds'] tensor_info:\n",
      "      dtype: DT_INT64\n",
      "      shape: (-1, 1)\n",
      "      name: serving_default_trip_seconds:0\n",
      "The given SavedModel SignatureDef contains the following output(s):\n",
      "  outputs['dense_1'] tensor_info:\n",
      "      dtype: DT_FLOAT\n",
      "      shape: (-1, 1)\n",
      "      name: StatefulPartitionedCall:0\n",
      "Method name is: tensorflow/serving/predict\n"
     ]
    }
   ],
   "source": [
    "!saved_model_cli show --dir {saved_model_path} --tag_set serve --signature_def serving_default"
   ]
  },
  {
   "cell_type": "markdown",
   "id": "d0946402",
   "metadata": {},
   "source": [
    "### Upload the model"
   ]
  },
  {
   "cell_type": "code",
   "execution_count": 9,
   "id": "69a61889",
   "metadata": {},
   "outputs": [
    {
     "name": "stdout",
     "output_type": "stream",
     "text": [
      "INFO:google.cloud.aiplatform.models:Creating Model\n",
      "INFO:google.cloud.aiplatform.models:Create Model backing LRO: projects/910094146258/locations/us-central1/models/6871094452576845824/operations/8173941239578624000\n",
      "INFO:google.cloud.aiplatform.models:Model created. Resource name: projects/910094146258/locations/us-central1/models/6871094452576845824\n",
      "INFO:google.cloud.aiplatform.models:To use this Model in another session:\n",
      "INFO:google.cloud.aiplatform.models:model = aiplatform.Model('projects/910094146258/locations/us-central1/models/6871094452576845824')\n"
     ]
    }
   ],
   "source": [
    "display_name = f'{PREFIX} Chicago taxi tip classifier'\n",
    "description = 'Chicago taxi tip TensorFlow classifier'\n",
    "serving_image_uri = 'us-docker.pkg.dev/vertex-ai/prediction/tf2-cpu.2-4:latest'\n",
    "\n",
    "model = vertex_ai.Model.upload(\n",
    "    display_name=display_name,\n",
    "    description=description,\n",
    "    artifact_uri=saved_model_path,\n",
    "    serving_container_image_uri=serving_image_uri\n",
    ")\n",
    "\n",
    "model.wait()"
   ]
  },
  {
   "cell_type": "markdown",
   "id": "313fdc4d",
   "metadata": {},
   "source": [
    "### Create an endpoint"
   ]
  },
  {
   "cell_type": "code",
   "execution_count": 10,
   "id": "e3741aa3",
   "metadata": {},
   "outputs": [
    {
     "name": "stdout",
     "output_type": "stream",
     "text": [
      "INFO:google.cloud.aiplatform.models:Creating Endpoint\n",
      "INFO:google.cloud.aiplatform.models:Create Endpoint backing LRO: projects/910094146258/locations/us-central1/endpoints/1568149871813197824/operations/6185602004094550016\n",
      "INFO:google.cloud.aiplatform.models:Endpoint created. Resource name: projects/910094146258/locations/us-central1/endpoints/1568149871813197824\n",
      "INFO:google.cloud.aiplatform.models:To use this Endpoint in another session:\n",
      "INFO:google.cloud.aiplatform.models:endpoint = aiplatform.Endpoint('projects/910094146258/locations/us-central1/endpoints/1568149871813197824')\n"
     ]
    }
   ],
   "source": [
    "display_name = f'{PREFIX} Taxi tip classifier endpoint'\n",
    "\n",
    "endpoint = vertex_ai.Endpoint.create(display_name=display_name)"
   ]
  },
  {
   "cell_type": "markdown",
   "id": "0ee6b57d",
   "metadata": {},
   "source": [
    "### Deploy the Model"
   ]
  },
  {
   "cell_type": "code",
   "execution_count": 11,
   "id": "67a05ab0",
   "metadata": {},
   "outputs": [
    {
     "name": "stdout",
     "output_type": "stream",
     "text": [
      "INFO:google.cloud.aiplatform.models:Deploying model to Endpoint : projects/910094146258/locations/us-central1/endpoints/1568149871813197824\n",
      "INFO:google.cloud.aiplatform.models:Deploy Endpoint model backing LRO: projects/910094146258/locations/us-central1/endpoints/1568149871813197824/operations/4526025541408522240\n",
      "INFO:google.cloud.aiplatform.models:Endpoint model deployed. Resource name: projects/910094146258/locations/us-central1/endpoints/1568149871813197824\n"
     ]
    }
   ],
   "source": [
    "deployed_model_display_name = f'{PREFIX}-taxi-v1'\n",
    "traffic_percentage = 100\n",
    "machine_type = 'n1-standard-4'\n",
    "\n",
    "endpoint = model.deploy(\n",
    "        endpoint=endpoint,\n",
    "        deployed_model_display_name=deployed_model_display_name,\n",
    "        machine_type=machine_type,\n",
    "        traffic_percentage=traffic_percentage)\n"
   ]
  },
  {
   "cell_type": "markdown",
   "id": "74c41404",
   "metadata": {},
   "source": [
    "## Invoking the deployed model using Vertex SDK"
   ]
  },
  {
   "cell_type": "markdown",
   "id": "296f04f1",
   "metadata": {},
   "source": [
    "### Get the endpoint"
   ]
  },
  {
   "cell_type": "code",
   "execution_count": 14,
   "id": "814f6473",
   "metadata": {},
   "outputs": [
    {
     "name": "stdout",
     "output_type": "stream",
     "text": [
      "<google.cloud.aiplatform.models.Endpoint object at 0x7fcb9d681650> \n",
      "resource name: projects/910094146258/locations/us-central1/endpoints/1568149871813197824\n"
     ]
    }
   ],
   "source": [
    "filter = f'display_name=\"{PREFIX} Taxi tip classifier endpoint\"'\n",
    "\n",
    "for endpoint_info in vertex_ai.Endpoint.list(filter=filter):\n",
    "    print(endpoint_info)\n",
    "    \n",
    "endpoint = vertex_ai.Endpoint(endpoint_info.resource_name)"
   ]
  },
  {
   "cell_type": "markdown",
   "id": "ba1137c7",
   "metadata": {},
   "source": [
    "### Call the endpoint"
   ]
  },
  {
   "cell_type": "code",
   "execution_count": 15,
   "id": "26dee86a",
   "metadata": {},
   "outputs": [
    {
     "name": "stdout",
     "output_type": "stream",
     "text": [
      "Probability of tip > 20%: [[0.75484097]]\n"
     ]
    }
   ],
   "source": [
    "test_instances = [  \n",
    "    \n",
    "    {\n",
    "        \"dropoff_grid\": [\"POINT(-87.6 41.9)\"],\n",
    "        \"euclidean\": [2064.2696],\n",
    "        \"payment_type\": [\"Credit Card\"],\n",
    "        \"pickup_grid\": [\"POINT(-87.6 41.9)\"],\n",
    "        \"trip_miles\": [1.37],\n",
    "        \"trip_day\": [12],\n",
    "        \"trip_hour\": [16],\n",
    "        \"trip_month\": [2],\n",
    "        \"trip_day_of_week\": [4],\n",
    "        \"trip_seconds\": [555]\n",
    "    }\n",
    "]\n",
    "\n",
    "predictions = endpoint.predict(instances=test_instances)\n",
    "prob = tf.nn.sigmoid(predictions[0])\n",
    "print('Probability of tip > 20%:', prob.numpy())"
   ]
  },
  {
   "cell_type": "markdown",
   "id": "ed75b2cb",
   "metadata": {},
   "source": [
    "## Batch prediction"
   ]
  },
  {
   "cell_type": "markdown",
   "id": "aa170af2",
   "metadata": {},
   "source": [
    "### Get the model"
   ]
  },
  {
   "cell_type": "code",
   "execution_count": 43,
   "id": "90ae99a9",
   "metadata": {},
   "outputs": [
    {
     "name": "stdout",
     "output_type": "stream",
     "text": [
      "<google.cloud.aiplatform.models.Model object at 0x7f4ae59510d0> \n",
      "resource name: projects/1026026909625/locations/us-central1/models/8976527278372552704\n"
     ]
    }
   ],
   "source": [
    "filter = f'display_name=\"Taxi tip classifier\"'\n",
    "\n",
    "for model_info in vertex_ai.Model.list(filter=filter):\n",
    "    print(model_info)"
   ]
  },
  {
   "cell_type": "code",
   "execution_count": 44,
   "id": "4fc87173",
   "metadata": {},
   "outputs": [],
   "source": [
    "model = vertex_ai.Model(model_info.resource_name)"
   ]
  },
  {
   "cell_type": "markdown",
   "id": "b42309f7",
   "metadata": {},
   "source": [
    "### Start a batch prediction job"
   ]
  },
  {
   "cell_type": "code",
   "execution_count": null,
   "id": "fdbe75c5",
   "metadata": {},
   "outputs": [],
   "source": [
    "bigquery_destination_prefix = f'{PROJECT}.{BQ_DATASET_NAME}'\n",
    "gcs_destination_prefix = f'{STAGING_BUCKET}/batch_predictions'\n",
    "\n",
    "job_display_name = job_name = 'BATCH_PREDICT_{}'.format(time.strftime(\"%Y%m%d_%H%M%S\"))"
   ]
  },
  {
   "cell_type": "code",
   "execution_count": null,
   "id": "08527fda",
   "metadata": {},
   "outputs": [],
   "source": [
    "batch_prediction_job = model.batch_predict(\n",
    "    job_display_name=job_display_name,\n",
    "    instances_format='jsonl',\n",
    "    gcs_source=gcs_path_to_instances,\n",
    "    predictions_format='jsonl',\n",
    "    machine_type='n1-standard-4',\n",
    "#    bigquery_source=bigquery_source,\n",
    "#    bigquery_destination_prefix=bigquery_destination_prefix,\n",
    "    gcs_destination_prefix=gcs_destination_prefix\n",
    ")"
   ]
  },
  {
   "cell_type": "markdown",
   "id": "39823c5a",
   "metadata": {},
   "source": [
    "## Clean up"
   ]
  },
  {
   "cell_type": "markdown",
   "id": "58c522b8",
   "metadata": {},
   "source": [
    "### Undeploy models"
   ]
  },
  {
   "cell_type": "code",
   "execution_count": 16,
   "id": "9991694d",
   "metadata": {},
   "outputs": [
    {
     "data": {
      "text/plain": [
       "[id: \"4940290461551034368\"\n",
       "model: \"projects/910094146258/locations/us-central1/models/6871094452576845824\"\n",
       "display_name: \"jk1-taxi-v1\"\n",
       "create_time {\n",
       "  seconds: 1624406545\n",
       "  nanos: 574565000\n",
       "}\n",
       "dedicated_resources {\n",
       "  machine_spec {\n",
       "    machine_type: \"n1-standard-4\"\n",
       "  }\n",
       "  min_replica_count: 1\n",
       "  max_replica_count: 1\n",
       "}\n",
       "]"
      ]
     },
     "execution_count": 16,
     "metadata": {},
     "output_type": "execute_result"
    }
   ],
   "source": [
    "endpoint.list_models()"
   ]
  },
  {
   "cell_type": "code",
   "execution_count": 17,
   "id": "b000fca8",
   "metadata": {},
   "outputs": [
    {
     "name": "stdout",
     "output_type": "stream",
     "text": [
      "INFO:google.cloud.aiplatform.models:Undeploying Endpoint model: projects/910094146258/locations/us-central1/endpoints/1568149871813197824\n",
      "INFO:google.cloud.aiplatform.models:Undeploy Endpoint model backing LRO: projects/910094146258/locations/us-central1/endpoints/1568149871813197824/operations/5341388180195115008\n",
      "INFO:google.cloud.aiplatform.models:Endpoint model undeployed. Resource name: projects/910094146258/locations/us-central1/endpoints/1568149871813197824\n"
     ]
    },
    {
     "data": {
      "text/plain": [
       "<google.cloud.aiplatform.models.Endpoint object at 0x7fcb9f72bc10> \n",
       "resource name: projects/910094146258/locations/us-central1/endpoints/1568149871813197824"
      ]
     },
     "execution_count": 17,
     "metadata": {},
     "output_type": "execute_result"
    }
   ],
   "source": [
    "endpoint.undeploy_all()"
   ]
  },
  {
   "cell_type": "markdown",
   "id": "75de7c18",
   "metadata": {},
   "source": [
    "### Delete endpoint"
   ]
  },
  {
   "cell_type": "code",
   "execution_count": 18,
   "id": "96d6a4c4",
   "metadata": {},
   "outputs": [
    {
     "name": "stdout",
     "output_type": "stream",
     "text": [
      "INFO:google.cloud.aiplatform.base:Deleting Endpoint : projects/910094146258/locations/us-central1/endpoints/1568149871813197824\n",
      "INFO:google.cloud.aiplatform.base:Delete Endpoint  backing LRO: projects/910094146258/locations/us-central1/operations/5665647353365790720\n",
      "INFO:google.cloud.aiplatform.base:Endpoint deleted. . Resource name: projects/910094146258/locations/us-central1/endpoints/1568149871813197824\n"
     ]
    }
   ],
   "source": [
    "endpoint.delete()"
   ]
  },
  {
   "cell_type": "markdown",
   "id": "1e4226ec",
   "metadata": {},
   "source": [
    "### Delete model"
   ]
  },
  {
   "cell_type": "code",
   "execution_count": 19,
   "id": "3d85de0f",
   "metadata": {},
   "outputs": [
    {
     "name": "stdout",
     "output_type": "stream",
     "text": [
      "INFO:google.cloud.aiplatform.base:Deleting Model : projects/910094146258/locations/us-central1/models/6871094452576845824\n",
      "INFO:google.cloud.aiplatform.base:Delete Model  backing LRO: projects/910094146258/locations/us-central1/operations/945663837648977920\n",
      "INFO:google.cloud.aiplatform.base:Model deleted. . Resource name: projects/910094146258/locations/us-central1/models/6871094452576845824\n"
     ]
    }
   ],
   "source": [
    "model.delete()"
   ]
  },
  {
   "cell_type": "code",
   "execution_count": null,
   "id": "bf874f90",
   "metadata": {},
   "outputs": [],
   "source": []
  }
 ],
 "metadata": {
  "environment": {
   "name": "tf2-gpu.2-5.m73",
   "type": "gcloud",
   "uri": "gcr.io/deeplearning-platform-release/tf2-gpu.2-5:m73"
  },
  "kernelspec": {
   "display_name": "Python [conda env:root] *",
   "language": "python",
   "name": "conda-root-py"
  },
  "language_info": {
   "codemirror_mode": {
    "name": "ipython",
    "version": 3
   },
   "file_extension": ".py",
   "mimetype": "text/x-python",
   "name": "python",
   "nbconvert_exporter": "python",
   "pygments_lexer": "ipython3",
   "version": "3.7.10"
  }
 },
 "nbformat": 4,
 "nbformat_minor": 5
}
