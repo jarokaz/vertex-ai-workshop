{
 "cells": [
  {
   "cell_type": "markdown",
   "id": "45eacf96",
   "metadata": {},
   "source": [
    "# Training and deploying a tabular model using Vertex custom training job - Part 2\n",
    "\n",
    "![Training pipeline](../images/custom-tabular.png)"
   ]
  },
  {
   "cell_type": "code",
   "execution_count": 1,
   "id": "9062f058",
   "metadata": {},
   "outputs": [],
   "source": [
    "import os\n",
    "import pprint\n",
    "import pandas as pd\n",
    "import tensorflow as tf\n",
    "import time\n",
    "\n",
    "from google.cloud import aiplatform as vertex_ai\n",
    "from google.cloud.aiplatform_v1beta1 import types"
   ]
  },
  {
   "cell_type": "markdown",
   "id": "6ea1a9c5",
   "metadata": {},
   "source": [
    "## Configure GCP settings\n"
   ]
  },
  {
   "cell_type": "code",
   "execution_count": 2,
   "id": "f8cae23a",
   "metadata": {},
   "outputs": [
    {
     "name": "stdout",
     "output_type": "stream",
     "text": [
      "Project ID:  jk-wst1\n"
     ]
    }
   ],
   "source": [
    "PREFIX = 'jkwst1'\n",
    "\n",
    "shell_output=!gcloud config list --format 'value(core.project)' 2>/dev/null\n",
    "PROJECT = shell_output[0]\n",
    "print(\"Project ID: \", PROJECT)"
   ]
  },
  {
   "cell_type": "code",
   "execution_count": 3,
   "id": "8da5a073",
   "metadata": {},
   "outputs": [],
   "source": [
    "REGION = 'us-central1'\n",
    "STAGING_BUCKET = f'gs://{PREFIX}-bucket'"
   ]
  },
  {
   "cell_type": "markdown",
   "id": "86f4e7a2",
   "metadata": {},
   "source": [
    "## Deploying a model to Vertex AI"
   ]
  },
  {
   "cell_type": "markdown",
   "id": "80e838d9",
   "metadata": {},
   "source": [
    "### Initialize Vertex AI SDK"
   ]
  },
  {
   "cell_type": "code",
   "execution_count": 4,
   "id": "36389ab9",
   "metadata": {},
   "outputs": [],
   "source": [
    "vertex_ai.init(\n",
    "    project=PROJECT,\n",
    "    location=REGION,\n",
    "    staging_bucket=STAGING_BUCKET\n",
    ")"
   ]
  },
  {
   "cell_type": "markdown",
   "id": "168db5a8",
   "metadata": {},
   "source": [
    "### List custom jobs"
   ]
  },
  {
   "cell_type": "code",
   "execution_count": 5,
   "id": "1d459ed8",
   "metadata": {},
   "outputs": [
    {
     "name": "stdout",
     "output_type": "stream",
     "text": [
      "jkwst1_CUSTOM_SCRIPT projects/630263135640/locations/us-central1/customJobs/4758497209014550528 JobState.JOB_STATE_SUCCEEDED 2021-06-28 17:18:32.031881+00:00\n"
     ]
    }
   ],
   "source": [
    "search_filter = 'display_name=\"{}_CUSTOM_SCRIPT\"'.format(PREFIX)\n",
    "\n",
    "for job in vertex_ai.CustomJob.list(filter=search_filter, order_by='create_timedesc'):\n",
    "    print(job.display_name, job.resource_name, job.state, job.create_time)"
   ]
  },
  {
   "cell_type": "markdown",
   "id": "a8eebe57",
   "metadata": {},
   "source": [
    "### Wait for the oldest custom job to complete"
   ]
  },
  {
   "cell_type": "code",
   "execution_count": 6,
   "id": "253b0506",
   "metadata": {},
   "outputs": [
    {
     "name": "stdout",
     "output_type": "stream",
     "text": [
      "Job has completed\n"
     ]
    }
   ],
   "source": [
    "while True:\n",
    "    job_state = job.state\n",
    "    if job_state != vertex_ai.gapic.JobState.JOB_STATE_SUCCEEDED:\n",
    "        print(\"Job has not completed:\", job_state)\n",
    "        if (job_state == vertex_ai.gapic.JobState.JOB_STATE_FAILED or \n",
    "           job_state == vertex_ai.gapic.JobState.JOB_STATE_CANCELLED):\n",
    "            break\n",
    "    else:\n",
    "        print(\"Job has completed\")\n",
    "        break\n",
    "    time.sleep(60)"
   ]
  },
  {
   "cell_type": "markdown",
   "id": "83ea77ee",
   "metadata": {},
   "source": [
    "### Retrieve model artifacts"
   ]
  },
  {
   "cell_type": "code",
   "execution_count": 7,
   "id": "c75ae201",
   "metadata": {},
   "outputs": [],
   "source": [
    "saved_model_path = '{}/model'.format(job.job_spec.base_output_directory.output_uri_prefix)"
   ]
  },
  {
   "cell_type": "code",
   "execution_count": 8,
   "id": "8100d456",
   "metadata": {},
   "outputs": [
    {
     "name": "stdout",
     "output_type": "stream",
     "text": [
      "gs://jkwst1-bucket/jobs/jkwst1_CUSTOM_SCRIPT/20210628_171831/model/\n",
      "gs://jkwst1-bucket/jobs/jkwst1_CUSTOM_SCRIPT/20210628_171831/model/saved_model.pb\n",
      "gs://jkwst1-bucket/jobs/jkwst1_CUSTOM_SCRIPT/20210628_171831/model/assets/\n",
      "gs://jkwst1-bucket/jobs/jkwst1_CUSTOM_SCRIPT/20210628_171831/model/variables/\n"
     ]
    }
   ],
   "source": [
    "!gsutil ls {saved_model_path}"
   ]
  },
  {
   "cell_type": "markdown",
   "id": "c6d2a6ac",
   "metadata": {},
   "source": [
    "### Inspect the model"
   ]
  },
  {
   "cell_type": "code",
   "execution_count": 9,
   "id": "dfca3508",
   "metadata": {},
   "outputs": [
    {
     "name": "stdout",
     "output_type": "stream",
     "text": [
      "The given SavedModel SignatureDef contains the following input(s):\n",
      "  inputs['dropoff_grid'] tensor_info:\n",
      "      dtype: DT_STRING\n",
      "      shape: (-1, 1)\n",
      "      name: serving_default_dropoff_grid:0\n",
      "  inputs['euclidean'] tensor_info:\n",
      "      dtype: DT_DOUBLE\n",
      "      shape: (-1, 1)\n",
      "      name: serving_default_euclidean:0\n",
      "  inputs['payment_type'] tensor_info:\n",
      "      dtype: DT_STRING\n",
      "      shape: (-1, 1)\n",
      "      name: serving_default_payment_type:0\n",
      "  inputs['pickup_grid'] tensor_info:\n",
      "      dtype: DT_STRING\n",
      "      shape: (-1, 1)\n",
      "      name: serving_default_pickup_grid:0\n",
      "  inputs['trip_day'] tensor_info:\n",
      "      dtype: DT_INT64\n",
      "      shape: (-1, 1)\n",
      "      name: serving_default_trip_day:0\n",
      "  inputs['trip_day_of_week'] tensor_info:\n",
      "      dtype: DT_INT64\n",
      "      shape: (-1, 1)\n",
      "      name: serving_default_trip_day_of_week:0\n",
      "  inputs['trip_hour'] tensor_info:\n",
      "      dtype: DT_INT64\n",
      "      shape: (-1, 1)\n",
      "      name: serving_default_trip_hour:0\n",
      "  inputs['trip_miles'] tensor_info:\n",
      "      dtype: DT_DOUBLE\n",
      "      shape: (-1, 1)\n",
      "      name: serving_default_trip_miles:0\n",
      "  inputs['trip_month'] tensor_info:\n",
      "      dtype: DT_INT64\n",
      "      shape: (-1, 1)\n",
      "      name: serving_default_trip_month:0\n",
      "  inputs['trip_seconds'] tensor_info:\n",
      "      dtype: DT_INT64\n",
      "      shape: (-1, 1)\n",
      "      name: serving_default_trip_seconds:0\n",
      "The given SavedModel SignatureDef contains the following output(s):\n",
      "  outputs['dense_1'] tensor_info:\n",
      "      dtype: DT_FLOAT\n",
      "      shape: (-1, 1)\n",
      "      name: StatefulPartitionedCall:0\n",
      "Method name is: tensorflow/serving/predict\n"
     ]
    }
   ],
   "source": [
    "!saved_model_cli show --dir {saved_model_path} --tag_set serve --signature_def serving_default"
   ]
  },
  {
   "cell_type": "markdown",
   "id": "bfb8dde5",
   "metadata": {},
   "source": [
    "### Upload the model"
   ]
  },
  {
   "cell_type": "code",
   "execution_count": 10,
   "id": "09af1c65",
   "metadata": {},
   "outputs": [
    {
     "name": "stdout",
     "output_type": "stream",
     "text": [
      "INFO:google.cloud.aiplatform.models:Creating Model\n",
      "INFO:google.cloud.aiplatform.models:Create Model backing LRO: projects/630263135640/locations/us-central1/models/5617264168819228672/operations/5825514145021165568\n",
      "INFO:google.cloud.aiplatform.models:Model created. Resource name: projects/630263135640/locations/us-central1/models/5617264168819228672\n",
      "INFO:google.cloud.aiplatform.models:To use this Model in another session:\n",
      "INFO:google.cloud.aiplatform.models:model = aiplatform.Model('projects/630263135640/locations/us-central1/models/5617264168819228672')\n"
     ]
    }
   ],
   "source": [
    "display_name = f'{PREFIX} Chicago taxi tip classifier'\n",
    "description = 'Chicago taxi tip TensorFlow classifier'\n",
    "serving_image_uri = 'us-docker.pkg.dev/vertex-ai/prediction/tf2-cpu.2-4:latest'\n",
    "\n",
    "model = vertex_ai.Model.upload(\n",
    "    display_name=display_name,\n",
    "    description=description,\n",
    "    artifact_uri=saved_model_path,\n",
    "    serving_container_image_uri=serving_image_uri\n",
    ")\n",
    "\n",
    "model.wait()"
   ]
  },
  {
   "cell_type": "markdown",
   "id": "11e9d808",
   "metadata": {},
   "source": [
    "### Create an endpoint"
   ]
  },
  {
   "cell_type": "code",
   "execution_count": 11,
   "id": "76ba31d1",
   "metadata": {},
   "outputs": [
    {
     "name": "stdout",
     "output_type": "stream",
     "text": [
      "INFO:google.cloud.aiplatform.models:Creating Endpoint\n",
      "INFO:google.cloud.aiplatform.models:Create Endpoint backing LRO: projects/630263135640/locations/us-central1/endpoints/8979948958558191616/operations/41766323570606080\n",
      "INFO:google.cloud.aiplatform.models:Endpoint created. Resource name: projects/630263135640/locations/us-central1/endpoints/8979948958558191616\n",
      "INFO:google.cloud.aiplatform.models:To use this Endpoint in another session:\n",
      "INFO:google.cloud.aiplatform.models:endpoint = aiplatform.Endpoint('projects/630263135640/locations/us-central1/endpoints/8979948958558191616')\n"
     ]
    }
   ],
   "source": [
    "display_name = f'{PREFIX} Taxi tip classifier endpoint'\n",
    "\n",
    "endpoint = vertex_ai.Endpoint.create(display_name=display_name)"
   ]
  },
  {
   "cell_type": "markdown",
   "id": "a402865f",
   "metadata": {},
   "source": [
    "### Deploy the Model"
   ]
  },
  {
   "cell_type": "code",
   "execution_count": 12,
   "id": "d47f523d",
   "metadata": {},
   "outputs": [
    {
     "name": "stdout",
     "output_type": "stream",
     "text": [
      "INFO:google.cloud.aiplatform.models:Deploying model to Endpoint : projects/630263135640/locations/us-central1/endpoints/8979948958558191616\n",
      "INFO:google.cloud.aiplatform.models:Deploy Endpoint model backing LRO: projects/630263135640/locations/us-central1/endpoints/8979948958558191616/operations/7981612466624790528\n",
      "INFO:google.cloud.aiplatform.models:Endpoint model deployed. Resource name: projects/630263135640/locations/us-central1/endpoints/8979948958558191616\n"
     ]
    }
   ],
   "source": [
    "deployed_model_display_name = f'{PREFIX}-taxi-v1'\n",
    "traffic_percentage = 100\n",
    "machine_type = 'n1-standard-4'\n",
    "\n",
    "endpoint = model.deploy(\n",
    "        endpoint=endpoint,\n",
    "        deployed_model_display_name=deployed_model_display_name,\n",
    "        machine_type=machine_type,\n",
    "        traffic_percentage=traffic_percentage)\n"
   ]
  },
  {
   "cell_type": "markdown",
   "id": "c110b68c",
   "metadata": {},
   "source": [
    "## Invoking the deployed model using Vertex SDK"
   ]
  },
  {
   "cell_type": "markdown",
   "id": "a23a38a4",
   "metadata": {},
   "source": [
    "### Get the endpoint"
   ]
  },
  {
   "cell_type": "code",
   "execution_count": 13,
   "id": "5b5fb4f3",
   "metadata": {},
   "outputs": [
    {
     "name": "stdout",
     "output_type": "stream",
     "text": [
      "<google.cloud.aiplatform.models.Endpoint object at 0x7f3bd33c18d0> \n",
      "resource name: projects/630263135640/locations/us-central1/endpoints/8979948958558191616\n"
     ]
    }
   ],
   "source": [
    "filter = f'display_name=\"{PREFIX} Taxi tip classifier endpoint\"'\n",
    "\n",
    "for endpoint_info in vertex_ai.Endpoint.list(filter=filter):\n",
    "    print(endpoint_info)\n",
    "    \n",
    "endpoint = vertex_ai.Endpoint(endpoint_info.resource_name)"
   ]
  },
  {
   "cell_type": "markdown",
   "id": "036e81d4",
   "metadata": {},
   "source": [
    "### Call the endpoint"
   ]
  },
  {
   "cell_type": "code",
   "execution_count": 14,
   "id": "cfee348e",
   "metadata": {},
   "outputs": [
    {
     "name": "stdout",
     "output_type": "stream",
     "text": [
      "Probability of tip > 20%: [[0.7745298]]\n"
     ]
    }
   ],
   "source": [
    "test_instances = [  \n",
    "    \n",
    "    {\n",
    "        \"dropoff_grid\": [\"POINT(-87.6 41.9)\"],\n",
    "        \"euclidean\": [2064.2696],\n",
    "        \"payment_type\": [\"Credit Card\"],\n",
    "        \"pickup_grid\": [\"POINT(-87.6 41.9)\"],\n",
    "        \"trip_miles\": [1.37],\n",
    "        \"trip_day\": [12],\n",
    "        \"trip_hour\": [16],\n",
    "        \"trip_month\": [2],\n",
    "        \"trip_day_of_week\": [4],\n",
    "        \"trip_seconds\": [555]\n",
    "    }\n",
    "]\n",
    "\n",
    "predictions = endpoint.predict(instances=test_instances)\n",
    "prob = tf.nn.sigmoid(predictions[0])\n",
    "print('Probability of tip > 20%:', prob.numpy())"
   ]
  },
  {
   "cell_type": "markdown",
   "id": "6bb68cdc",
   "metadata": {},
   "source": [
    "## Batch prediction"
   ]
  },
  {
   "cell_type": "markdown",
   "id": "b97609b2",
   "metadata": {},
   "source": [
    "### Get the model"
   ]
  },
  {
   "cell_type": "code",
   "execution_count": 15,
   "id": "55a8b542",
   "metadata": {},
   "outputs": [
    {
     "name": "stdout",
     "output_type": "stream",
     "text": [
      "<google.cloud.aiplatform.models.Model object at 0x7f3bd33bca10> \n",
      "resource name: projects/630263135640/locations/us-central1/models/5617264168819228672\n"
     ]
    }
   ],
   "source": [
    "filter = f'display_name=\"{PREFIX} Chicago taxi tip classifier\"'\n",
    "\n",
    "for model_info in vertex_ai.Model.list(filter=filter):\n",
    "    print(model_info)"
   ]
  },
  {
   "cell_type": "code",
   "execution_count": 16,
   "id": "8335f28f",
   "metadata": {},
   "outputs": [],
   "source": [
    "model = vertex_ai.Model(model_info.resource_name)"
   ]
  },
  {
   "cell_type": "markdown",
   "id": "79bb3719",
   "metadata": {},
   "source": [
    "### Start a batch prediction job"
   ]
  },
  {
   "cell_type": "code",
   "execution_count": 17,
   "id": "b5b9a7bd",
   "metadata": {},
   "outputs": [],
   "source": [
    "gcs_path_to_instances = f'{STAGING_BUCKET}/batch_data/batch_instances.jsonl'\n",
    "gcs_destination_prefix = f'{STAGING_BUCKET}/batch_predictions'\n",
    "\n",
    "job_display_name = job_name = 'BATCH_PREDICT_{}'.format(time.strftime(\"%Y%m%d_%H%M%S\"))"
   ]
  },
  {
   "cell_type": "code",
   "execution_count": null,
   "id": "e4180983",
   "metadata": {},
   "outputs": [
    {
     "name": "stdout",
     "output_type": "stream",
     "text": [
      "INFO:google.cloud.aiplatform.jobs:Creating BatchPredictionJob\n",
      "INFO:google.cloud.aiplatform.jobs:BatchPredictionJob created. Resource name: projects/630263135640/locations/us-central1/batchPredictionJobs/6529537762477998080\n",
      "INFO:google.cloud.aiplatform.jobs:To use this BatchPredictionJob in another session:\n",
      "INFO:google.cloud.aiplatform.jobs:bpj = aiplatform.BatchPredictionJob('projects/630263135640/locations/us-central1/batchPredictionJobs/6529537762477998080')\n",
      "INFO:google.cloud.aiplatform.jobs:View Batch Prediction Job:\n",
      "https://console.cloud.google.com/ai/platform/locations/us-central1/batch-predictions/6529537762477998080?project=630263135640\n",
      "INFO:google.cloud.aiplatform.jobs:BatchPredictionJob projects/630263135640/locations/us-central1/batchPredictionJobs/6529537762477998080 current state:\n",
      "JobState.JOB_STATE_RUNNING\n"
     ]
    }
   ],
   "source": [
    "batch_prediction_job = model.batch_predict(\n",
    "    job_display_name=job_display_name,\n",
    "    instances_format='csv',\n",
    "    gcs_source=gcs_path_to_instances,\n",
    "    predictions_format='jsonl',\n",
    "    machine_type='n1-standard-4',\n",
    "    gcs_destination_prefix=gcs_destination_prefix\n",
    ")"
   ]
  },
  {
   "cell_type": "markdown",
   "id": "d3e18101",
   "metadata": {},
   "source": [
    "## Clean up"
   ]
  },
  {
   "cell_type": "markdown",
   "id": "54ad95b4",
   "metadata": {},
   "source": [
    "### Undeploy models"
   ]
  },
  {
   "cell_type": "code",
   "execution_count": null,
   "id": "321769f9",
   "metadata": {},
   "outputs": [],
   "source": [
    "endpoint.list_models()"
   ]
  },
  {
   "cell_type": "code",
   "execution_count": null,
   "id": "21243613",
   "metadata": {},
   "outputs": [],
   "source": [
    "endpoint.undeploy_all()"
   ]
  },
  {
   "cell_type": "markdown",
   "id": "13cf7b7f",
   "metadata": {},
   "source": [
    "### Delete endpoint"
   ]
  },
  {
   "cell_type": "code",
   "execution_count": null,
   "id": "27d1983b",
   "metadata": {},
   "outputs": [],
   "source": [
    "endpoint.delete()"
   ]
  },
  {
   "cell_type": "markdown",
   "id": "f4b765a2",
   "metadata": {},
   "source": [
    "### Delete model"
   ]
  },
  {
   "cell_type": "code",
   "execution_count": null,
   "id": "b95ef5e9",
   "metadata": {},
   "outputs": [],
   "source": [
    "model.delete()"
   ]
  },
  {
   "cell_type": "code",
   "execution_count": null,
   "id": "2ee4b955",
   "metadata": {},
   "outputs": [],
   "source": []
  }
 ],
 "metadata": {
  "environment": {
   "name": "tf2-gpu.2-5.m74",
   "type": "gcloud",
   "uri": "gcr.io/deeplearning-platform-release/tf2-gpu.2-5:m74"
  },
  "kernelspec": {
   "display_name": "Python [conda env:root] *",
   "language": "python",
   "name": "conda-root-py"
  },
  "language_info": {
   "codemirror_mode": {
    "name": "ipython",
    "version": 3
   },
   "file_extension": ".py",
   "mimetype": "text/x-python",
   "name": "python",
   "nbconvert_exporter": "python",
   "pygments_lexer": "ipython3",
   "version": "3.7.10"
  }
 },
 "nbformat": 4,
 "nbformat_minor": 5
}
