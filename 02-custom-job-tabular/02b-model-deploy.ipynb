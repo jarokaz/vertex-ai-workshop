{
 "cells": [
  {
   "cell_type": "markdown",
   "id": "b980870b",
   "metadata": {},
   "source": [
    "# Training and deploying a tabular model using Vertex custom training job - Part 2\n",
    "\n",
    "![Training pipeline](../images/custom-tabular.png)"
   ]
  },
  {
   "cell_type": "code",
   "execution_count": null,
   "id": "d9ca6806",
   "metadata": {},
   "outputs": [],
   "source": [
    "import os\n",
    "import pprint\n",
    "import pandas as pd\n",
    "import tensorflow as tf\n",
    "import time\n",
    "\n",
    "from google.cloud import aiplatform as vertex_ai\n",
    "from google.cloud.aiplatform_v1beta1 import types"
   ]
  },
  {
   "cell_type": "markdown",
   "id": "5b3445e7",
   "metadata": {},
   "source": [
    "## Configure GCP settings\n"
   ]
  },
  {
   "cell_type": "code",
   "execution_count": null,
   "id": "09f29ee1",
   "metadata": {},
   "outputs": [],
   "source": [
    "PREFIX = 'jkwst1'\n",
    "\n",
    "shell_output=!gcloud config list --format 'value(core.project)' 2>/dev/null\n",
    "PROJECT = shell_output[0]\n",
    "print(\"Project ID: \", PROJECT)"
   ]
  },
  {
   "cell_type": "code",
   "execution_count": null,
   "id": "c4f6d725",
   "metadata": {},
   "outputs": [],
   "source": [
    "REGION = 'us-central1'\n",
    "STAGING_BUCKET = f'gs://{PREFIX}-bucket'"
   ]
  },
  {
   "cell_type": "markdown",
   "id": "cb1f1ee2",
   "metadata": {},
   "source": [
    "## Deploying a model to Vertex AI"
   ]
  },
  {
   "cell_type": "markdown",
   "id": "4f6b5be3",
   "metadata": {},
   "source": [
    "### Initialize Vertex AI SDK"
   ]
  },
  {
   "cell_type": "code",
   "execution_count": null,
   "id": "d4259eb4",
   "metadata": {},
   "outputs": [],
   "source": [
    "vertex_ai.init(\n",
    "    project=PROJECT,\n",
    "    location=REGION,\n",
    "    staging_bucket=STAGING_BUCKET\n",
    ")"
   ]
  },
  {
   "cell_type": "markdown",
   "id": "16a07a97",
   "metadata": {},
   "source": [
    "### Retrieve pre-trained model artifacts"
   ]
  },
  {
   "cell_type": "code",
   "execution_count": null,
   "id": "015f5764",
   "metadata": {},
   "outputs": [],
   "source": [
    "pretrained_model_path = 'gs://workshop-datasets/models/taxi_classifier'\n",
    "\n",
    "!gsutil ls {pretrained_model_path}"
   ]
  },
  {
   "cell_type": "markdown",
   "id": "72128209",
   "metadata": {},
   "source": [
    "### Copy the pre-trained model artifacts to your staging bucket"
   ]
  },
  {
   "cell_type": "code",
   "execution_count": null,
   "id": "d447abc0",
   "metadata": {},
   "outputs": [],
   "source": [
    "saved_model_path = f'{STAGING_BUCKET}/models/taxi_classifer'\n",
    "\n",
    "!gsutil cp -r {pretrained_model_path}/* {saved_model_path}"
   ]
  },
  {
   "cell_type": "markdown",
   "id": "e1c62a77",
   "metadata": {},
   "source": [
    "### Inspect the model"
   ]
  },
  {
   "cell_type": "code",
   "execution_count": null,
   "id": "990ee896",
   "metadata": {},
   "outputs": [],
   "source": [
    "!saved_model_cli show --dir {saved_model_path} --tag_set serve --signature_def serving_default"
   ]
  },
  {
   "cell_type": "markdown",
   "id": "56c30773",
   "metadata": {},
   "source": [
    "### Upload the model"
   ]
  },
  {
   "cell_type": "code",
   "execution_count": null,
   "id": "266f48fc",
   "metadata": {},
   "outputs": [],
   "source": [
    "display_name = f'{PREFIX} Chicago taxi classifier'\n",
    "description = 'Chicago taxi tip TensorFlow classifier'\n",
    "serving_image_uri = 'us-docker.pkg.dev/vertex-ai/prediction/tf2-cpu.2-4:latest'\n",
    "\n",
    "model = vertex_ai.Model.upload(\n",
    "    display_name=display_name,\n",
    "    description=description,\n",
    "    artifact_uri=saved_model_path,\n",
    "    serving_container_image_uri=serving_image_uri\n",
    ")\n",
    "\n",
    "model.wait()"
   ]
  },
  {
   "cell_type": "markdown",
   "id": "70b4fcdc",
   "metadata": {},
   "source": [
    "### Create an endpoint"
   ]
  },
  {
   "cell_type": "code",
   "execution_count": null,
   "id": "b5983a9a",
   "metadata": {},
   "outputs": [],
   "source": [
    "display_name = f'{PREFIX} Chicago taxi endpoint'\n",
    "\n",
    "endpoint = vertex_ai.Endpoint.create(display_name=display_name)"
   ]
  },
  {
   "cell_type": "markdown",
   "id": "e7e9cd9a",
   "metadata": {},
   "source": [
    "### Deploy the Model"
   ]
  },
  {
   "cell_type": "code",
   "execution_count": null,
   "id": "643bcabb",
   "metadata": {},
   "outputs": [],
   "source": [
    "deployed_model_display_name = f'{PREFIX}-taxi-v1'\n",
    "traffic_percentage = 100\n",
    "machine_type = 'n1-standard-4'\n",
    "\n",
    "endpoint = model.deploy(\n",
    "        endpoint=endpoint,\n",
    "        deployed_model_display_name=deployed_model_display_name,\n",
    "        machine_type=machine_type,\n",
    "        traffic_percentage=traffic_percentage)\n"
   ]
  },
  {
   "cell_type": "markdown",
   "id": "dd303380",
   "metadata": {},
   "source": [
    "## Invoking the deployed model using Vertex SDK"
   ]
  },
  {
   "cell_type": "markdown",
   "id": "4caec66e",
   "metadata": {},
   "source": [
    "### Get the endpoint"
   ]
  },
  {
   "cell_type": "code",
   "execution_count": null,
   "id": "95bfadb9",
   "metadata": {},
   "outputs": [],
   "source": [
    "filter = f'display_name=\"{PREFIX} Chicago taxi endpoint\"'\n",
    "\n",
    "for endpoint_info in vertex_ai.Endpoint.list(filter=filter):\n",
    "    print(endpoint_info)\n",
    "    \n",
    "endpoint = vertex_ai.Endpoint(endpoint_info.resource_name)"
   ]
  },
  {
   "cell_type": "markdown",
   "id": "5941dfe1",
   "metadata": {},
   "source": [
    "### Call the endpoint"
   ]
  },
  {
   "cell_type": "code",
   "execution_count": null,
   "id": "99dc713f",
   "metadata": {},
   "outputs": [],
   "source": [
    "test_instances = [  \n",
    "    \n",
    "    {\n",
    "        \"dropoff_grid\": [\"POINT(-87.6 41.9)\"],\n",
    "        \"euclidean\": [2064.2696],\n",
    "        \"payment_type\": [\"Credit Card\"],\n",
    "        \"pickup_grid\": [\"POINT(-87.6 41.9)\"],\n",
    "        \"trip_miles\": [1.37],\n",
    "        \"trip_day\": [12],\n",
    "        \"trip_hour\": [16],\n",
    "        \"trip_month\": [2],\n",
    "        \"trip_day_of_week\": [4],\n",
    "        \"trip_seconds\": [555]\n",
    "    }\n",
    "]\n",
    "\n",
    "predictions = endpoint.predict(instances=test_instances)\n",
    "prob = tf.nn.sigmoid(predictions[0])\n",
    "print('Probability of tip > 20%:', prob.numpy())"
   ]
  },
  {
   "cell_type": "code",
   "execution_count": null,
   "id": "87ede265",
   "metadata": {},
   "outputs": [],
   "source": []
  }
 ],
 "metadata": {
  "environment": {
   "name": "tf2-gpu.2-5.m74",
   "type": "gcloud",
   "uri": "gcr.io/deeplearning-platform-release/tf2-gpu.2-5:m74"
  },
  "kernelspec": {
   "display_name": "Python [conda env:root] *",
   "language": "python",
   "name": "conda-root-py"
  },
  "language_info": {
   "codemirror_mode": {
    "name": "ipython",
    "version": 3
   },
   "file_extension": ".py",
   "mimetype": "text/x-python",
   "name": "python",
   "nbconvert_exporter": "python",
   "pygments_lexer": "ipython3",
   "version": "3.7.10"
  }
 },
 "nbformat": 4,
 "nbformat_minor": 5
}
