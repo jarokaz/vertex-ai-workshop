{
 "cells": [
  {
   "cell_type": "code",
   "execution_count": 1,
   "id": "a38a6d83",
   "metadata": {},
   "outputs": [],
   "source": [
    "import os\n",
    "import pprint\n",
    "import pandas as pd\n",
    "import tensorflow as tf\n",
    "import time\n",
    "\n",
    "from google.cloud import aiplatform as vertex_ai\n",
    "from google.cloud.aiplatform_v1beta1 import types\n",
    "from google.cloud import bigquery\n",
    "from google.cloud import exceptions\n"
   ]
  },
  {
   "cell_type": "code",
   "execution_count": 6,
   "id": "db95dfa1",
   "metadata": {},
   "outputs": [],
   "source": [
    "PROJECT = 'jk-vertex-workshop'\n",
    "REGION = 'us-central1'\n",
    "PREFIX = 'jk'\n",
    "\n",
    "STAGING_BUCKET = f'gs://{PREFIX}-bucket'\n",
    "VERTEX_SA = f'training-sa@{PROJECT}.iam.gserviceaccount.com'\n",
    "\n",
    "TENSORBOARD = 'projects/1058712423388/locations/us-central1/tensorboards/921021308169355264'"
   ]
  },
  {
   "cell_type": "code",
   "execution_count": 7,
   "id": "579acc06",
   "metadata": {},
   "outputs": [],
   "source": [
    "vertex_ai.init(\n",
    "    project=PROJECT,\n",
    "    location=REGION,\n",
    "    staging_bucket=STAGING_BUCKET\n",
    ")"
   ]
  },
  {
   "cell_type": "code",
   "execution_count": 13,
   "id": "ee842107",
   "metadata": {},
   "outputs": [
    {
     "name": "stdout",
     "output_type": "stream",
     "text": [
      "Help on method get in module google.cloud.aiplatform.jobs:\n",
      "\n",
      "get(resource_name: str, project: Union[str, NoneType] = None, location: Union[str, NoneType] = None, credentials: Union[google.auth.credentials.Credentials, NoneType] = None) -> '_RunnableJob' method of abc.ABCMeta instance\n",
      "    Get a Vertex AI Job for the given resource_name.\n",
      "    \n",
      "    Args:\n",
      "        resource_name (str):\n",
      "            Required. A fully-qualified resource name or ID.\n",
      "        project (str):\n",
      "            Optional project to retrieve dataset from. If not set, project\n",
      "            set in aiplatform.init will be used.\n",
      "        location (str):\n",
      "            Optional location to retrieve dataset from. If not set, location\n",
      "            set in aiplatform.init will be used.\n",
      "        credentials (auth_credentials.Credentials):\n",
      "            Custom credentials to use to upload this model. Overrides\n",
      "            credentials set in aiplatform.init.\n",
      "    \n",
      "    Returns:\n",
      "        A Vertex AI Job.\n",
      "\n"
     ]
    }
   ],
   "source": [
    "help(vertex_ai.CustomJob.get)"
   ]
  },
  {
   "cell_type": "code",
   "execution_count": 14,
   "id": "bceb5484",
   "metadata": {},
   "outputs": [
    {
     "name": "stdout",
     "output_type": "stream",
     "text": [
      "INFO:google.cloud.aiplatform.base:Deleting CustomJob : projects/910094146258/locations/us-central1/customJobs/9004037059299508224\n",
      "INFO:google.cloud.aiplatform.base:Delete CustomJob  backing LRO: projects/910094146258/locations/us-central1/operations/5695589254013386752\n",
      "INFO:google.cloud.aiplatform.base:CustomJob deleted. . Resource name: projects/910094146258/locations/us-central1/customJobs/9004037059299508224\n",
      "INFO:google.cloud.aiplatform.base:Deleting CustomJob : projects/910094146258/locations/us-central1/customJobs/684058960197582848\n",
      "INFO:google.cloud.aiplatform.base:Delete CustomJob  backing LRO: projects/910094146258/locations/us-central1/operations/6862021557502345216\n",
      "INFO:google.cloud.aiplatform.base:CustomJob deleted. . Resource name: projects/910094146258/locations/us-central1/customJobs/684058960197582848\n",
      "INFO:google.cloud.aiplatform.base:Deleting CustomJob : projects/910094146258/locations/us-central1/customJobs/4041070269937221632\n",
      "INFO:google.cloud.aiplatform.base:Delete CustomJob  backing LRO: projects/910094146258/locations/us-central1/operations/4556178548288651264\n",
      "INFO:google.cloud.aiplatform.base:CustomJob deleted. . Resource name: projects/910094146258/locations/us-central1/customJobs/4041070269937221632\n",
      "INFO:google.cloud.aiplatform.base:Deleting CustomJob : projects/910094146258/locations/us-central1/customJobs/3650383002262831104\n",
      "INFO:google.cloud.aiplatform.base:Delete CustomJob  backing LRO: projects/910094146258/locations/us-central1/operations/8848108993172733952\n",
      "INFO:google.cloud.aiplatform.base:CustomJob deleted. . Resource name: projects/910094146258/locations/us-central1/customJobs/3650383002262831104\n",
      "INFO:google.cloud.aiplatform.base:Deleting CustomJob : projects/910094146258/locations/us-central1/customJobs/2451299601475436544\n",
      "INFO:google.cloud.aiplatform.base:Delete CustomJob  backing LRO: projects/910094146258/locations/us-central1/operations/9167864566716039168\n",
      "INFO:google.cloud.aiplatform.base:CustomJob deleted. . Resource name: projects/910094146258/locations/us-central1/customJobs/2451299601475436544\n",
      "INFO:google.cloud.aiplatform.base:Deleting CustomJob : projects/910094146258/locations/us-central1/customJobs/2927555262069866496\n",
      "INFO:google.cloud.aiplatform.base:Delete CustomJob  backing LRO: projects/910094146258/locations/us-central1/operations/8681475806960025600\n",
      "INFO:google.cloud.aiplatform.base:CustomJob deleted. . Resource name: projects/910094146258/locations/us-central1/customJobs/2927555262069866496\n",
      "INFO:google.cloud.aiplatform.base:Deleting CustomJob : projects/910094146258/locations/us-central1/customJobs/8238425122646523904\n",
      "INFO:google.cloud.aiplatform.base:Delete CustomJob  backing LRO: projects/910094146258/locations/us-central1/operations/3596911827658735616\n",
      "INFO:google.cloud.aiplatform.base:CustomJob deleted. . Resource name: projects/910094146258/locations/us-central1/customJobs/8238425122646523904\n",
      "INFO:google.cloud.aiplatform.base:Deleting CustomJob : projects/910094146258/locations/us-central1/customJobs/7877011252550041600\n",
      "INFO:google.cloud.aiplatform.base:Delete CustomJob  backing LRO: projects/910094146258/locations/us-central1/operations/2678177503675154432\n",
      "INFO:google.cloud.aiplatform.base:CustomJob deleted. . Resource name: projects/910094146258/locations/us-central1/customJobs/7877011252550041600\n",
      "INFO:google.cloud.aiplatform.base:Deleting CustomJob : projects/910094146258/locations/us-central1/customJobs/7665482807551983616\n",
      "INFO:google.cloud.aiplatform.base:Delete CustomJob  backing LRO: projects/910094146258/locations/us-central1/operations/3389746244799692800\n",
      "INFO:google.cloud.aiplatform.base:CustomJob deleted. . Resource name: projects/910094146258/locations/us-central1/customJobs/7665482807551983616\n",
      "INFO:google.cloud.aiplatform.base:Deleting CustomJob : projects/910094146258/locations/us-central1/customJobs/4402484140033703936\n",
      "INFO:google.cloud.aiplatform.base:Delete CustomJob  backing LRO: projects/910094146258/locations/us-central1/operations/5438884075253268480\n",
      "INFO:google.cloud.aiplatform.base:CustomJob deleted. . Resource name: projects/910094146258/locations/us-central1/customJobs/4402484140033703936\n",
      "INFO:google.cloud.aiplatform.base:Deleting CustomJob : projects/910094146258/locations/us-central1/customJobs/1423352986528120832\n",
      "INFO:google.cloud.aiplatform.base:Delete CustomJob  backing LRO: projects/910094146258/locations/us-central1/operations/322794898560385024\n",
      "INFO:google.cloud.aiplatform.base:CustomJob deleted. . Resource name: projects/910094146258/locations/us-central1/customJobs/1423352986528120832\n",
      "INFO:google.cloud.aiplatform.base:Deleting CustomJob : projects/910094146258/locations/us-central1/customJobs/6235449188373495808\n",
      "INFO:google.cloud.aiplatform.base:Delete CustomJob  backing LRO: projects/910094146258/locations/us-central1/operations/7213302328437243904\n",
      "INFO:google.cloud.aiplatform.base:CustomJob deleted. . Resource name: projects/910094146258/locations/us-central1/customJobs/6235449188373495808\n",
      "INFO:google.cloud.aiplatform.base:Deleting CustomJob : projects/910094146258/locations/us-central1/customJobs/3247310835613171712\n",
      "INFO:google.cloud.aiplatform.base:Delete CustomJob  backing LRO: projects/910094146258/locations/us-central1/operations/4934480916987772928\n",
      "INFO:google.cloud.aiplatform.base:CustomJob deleted. . Resource name: projects/910094146258/locations/us-central1/customJobs/3247310835613171712\n",
      "INFO:google.cloud.aiplatform.base:Deleting CustomJob : projects/910094146258/locations/us-central1/customJobs/7829723456462651392\n",
      "INFO:google.cloud.aiplatform.base:Delete CustomJob  backing LRO: projects/910094146258/locations/us-central1/operations/2628637907774078976\n",
      "INFO:google.cloud.aiplatform.base:CustomJob deleted. . Resource name: projects/910094146258/locations/us-central1/customJobs/7829723456462651392\n",
      "INFO:google.cloud.aiplatform.base:Deleting CustomJob : projects/910094146258/locations/us-central1/customJobs/4978944892337127424\n",
      "INFO:google.cloud.aiplatform.base:Delete CustomJob  backing LRO: projects/910094146258/locations/us-central1/operations/3695991019460886528\n",
      "INFO:google.cloud.aiplatform.base:CustomJob deleted. . Resource name: projects/910094146258/locations/us-central1/customJobs/4978944892337127424\n",
      "INFO:google.cloud.aiplatform.base:Deleting CustomJob : projects/910094146258/locations/us-central1/customJobs/5787341025450131456\n",
      "INFO:google.cloud.aiplatform.base:Delete CustomJob  backing LRO: projects/910094146258/locations/us-central1/operations/1448694805403009024\n",
      "INFO:google.cloud.aiplatform.base:CustomJob deleted. . Resource name: projects/910094146258/locations/us-central1/customJobs/5787341025450131456\n",
      "INFO:google.cloud.aiplatform.base:Deleting CustomJob : projects/910094146258/locations/us-central1/customJobs/8597164980464254976\n",
      "INFO:google.cloud.aiplatform.base:Delete CustomJob  backing LRO: projects/910094146258/locations/us-central1/operations/6060380823830396928\n",
      "INFO:google.cloud.aiplatform.base:CustomJob deleted. . Resource name: projects/910094146258/locations/us-central1/customJobs/8597164980464254976\n",
      "INFO:google.cloud.aiplatform.base:Deleting CustomJob : projects/910094146258/locations/us-central1/customJobs/1510750966796779520\n",
      "INFO:google.cloud.aiplatform.base:Delete CustomJob  backing LRO: projects/910094146258/locations/us-central1/operations/8834598194290622464\n",
      "INFO:google.cloud.aiplatform.base:CustomJob deleted. . Resource name: projects/910094146258/locations/us-central1/customJobs/1510750966796779520\n",
      "INFO:google.cloud.aiplatform.base:Deleting CustomJob : projects/910094146258/locations/us-central1/customJobs/5488555337671770112\n",
      "INFO:google.cloud.aiplatform.base:Delete CustomJob  backing LRO: projects/910094146258/locations/us-central1/operations/2236824740192845824\n",
      "INFO:google.cloud.aiplatform.base:CustomJob deleted. . Resource name: projects/910094146258/locations/us-central1/customJobs/5488555337671770112\n",
      "INFO:google.cloud.aiplatform.base:Deleting CustomJob : projects/910094146258/locations/us-central1/customJobs/8573521082420559872\n",
      "INFO:google.cloud.aiplatform.base:Delete CustomJob  backing LRO: projects/910094146258/locations/us-central1/operations/8307677037888274432\n",
      "INFO:google.cloud.aiplatform.base:CustomJob deleted. . Resource name: projects/910094146258/locations/us-central1/customJobs/8573521082420559872\n",
      "INFO:google.cloud.aiplatform.base:Deleting CustomJob : projects/910094146258/locations/us-central1/customJobs/7366556382285266944\n",
      "INFO:google.cloud.aiplatform.base:Delete CustomJob  backing LRO: projects/910094146258/locations/us-central1/operations/5326294084569006080\n",
      "INFO:google.cloud.aiplatform.base:CustomJob deleted. . Resource name: projects/910094146258/locations/us-central1/customJobs/7366556382285266944\n",
      "INFO:google.cloud.aiplatform.base:Deleting CustomJob : projects/910094146258/locations/us-central1/customJobs/5925404501526708224\n",
      "INFO:google.cloud.aiplatform.base:Delete CustomJob  backing LRO: projects/910094146258/locations/us-central1/operations/3020451075355312128\n",
      "INFO:google.cloud.aiplatform.base:CustomJob deleted. . Resource name: projects/910094146258/locations/us-central1/customJobs/5925404501526708224\n",
      "INFO:google.cloud.aiplatform.base:Deleting CustomJob : projects/910094146258/locations/us-central1/customJobs/1313718483099320320\n",
      "INFO:google.cloud.aiplatform.base:Delete CustomJob  backing LRO: projects/910094146258/locations/us-central1/operations/52578920918155264\n",
      "INFO:google.cloud.aiplatform.base:CustomJob deleted. . Resource name: projects/910094146258/locations/us-central1/customJobs/1313718483099320320\n",
      "INFO:google.cloud.aiplatform.base:Deleting CustomJob : projects/910094146258/locations/us-central1/customJobs/6355498265940590592\n",
      "INFO:google.cloud.aiplatform.base:Delete CustomJob  backing LRO: projects/910094146258/locations/us-central1/operations/4664264939345543168\n",
      "INFO:google.cloud.aiplatform.base:CustomJob deleted. . Resource name: projects/910094146258/locations/us-central1/customJobs/6355498265940590592\n",
      "INFO:google.cloud.aiplatform.base:Deleting CustomJob : projects/910094146258/locations/us-central1/customJobs/8981096848697589760\n",
      "INFO:google.cloud.aiplatform.base:Delete CustomJob  backing LRO: projects/910094146258/locations/us-central1/operations/6848510758620233728\n",
      "INFO:google.cloud.aiplatform.base:CustomJob deleted. . Resource name: projects/910094146258/locations/us-central1/customJobs/8981096848697589760\n",
      "INFO:google.cloud.aiplatform.base:Deleting CustomJob : projects/910094146258/locations/us-central1/customJobs/744013130236952576\n",
      "INFO:google.cloud.aiplatform.base:Delete CustomJob  backing LRO: projects/910094146258/locations/us-central1/operations/7632137093782700032\n",
      "INFO:google.cloud.aiplatform.base:CustomJob deleted. . Resource name: projects/910094146258/locations/us-central1/customJobs/744013130236952576\n",
      "INFO:google.cloud.aiplatform.base:Deleting CustomJob : projects/910094146258/locations/us-central1/customJobs/3626316891754070016\n",
      "INFO:google.cloud.aiplatform.base:Delete CustomJob  backing LRO: projects/910094146258/locations/us-central1/operations/813687257943769088\n",
      "INFO:google.cloud.aiplatform.base:CustomJob deleted. . Resource name: projects/910094146258/locations/us-central1/customJobs/3626316891754070016\n",
      "INFO:google.cloud.aiplatform.base:Deleting CustomJob : projects/910094146258/locations/us-central1/customJobs/1410545875087785984\n",
      "INFO:google.cloud.aiplatform.base:Delete CustomJob  backing LRO: projects/910094146258/locations/us-central1/operations/4542667749406539776\n",
      "INFO:google.cloud.aiplatform.base:CustomJob deleted. . Resource name: projects/910094146258/locations/us-central1/customJobs/1410545875087785984\n",
      "INFO:google.cloud.aiplatform.base:Deleting CustomJob : projects/910094146258/locations/us-central1/customJobs/4872125138675433472\n",
      "INFO:google.cloud.aiplatform.base:Delete CustomJob  backing LRO: projects/910094146258/locations/us-central1/operations/3133041066039574528\n",
      "INFO:google.cloud.aiplatform.base:CustomJob deleted. . Resource name: projects/910094146258/locations/us-central1/customJobs/4872125138675433472\n",
      "INFO:google.cloud.aiplatform.base:Deleting CustomJob : projects/910094146258/locations/us-central1/customJobs/7776946898329403392\n",
      "INFO:google.cloud.aiplatform.base:Delete CustomJob  backing LRO: projects/910094146258/locations/us-central1/operations/7289863522102542336\n",
      "INFO:google.cloud.aiplatform.base:CustomJob deleted. . Resource name: projects/910094146258/locations/us-central1/customJobs/7776946898329403392\n"
     ]
    }
   ],
   "source": [
    "for job in vertex_ai.CustomJob.list():\n",
    "    job.delete()"
   ]
  },
  {
   "cell_type": "code",
   "execution_count": null,
   "id": "1958ed80",
   "metadata": {},
   "outputs": [],
   "source": []
  }
 ],
 "metadata": {
  "environment": {
   "name": "tf2-cpu.2-4.m69",
   "type": "gcloud",
   "uri": "gcr.io/deeplearning-platform-release/tf2-cpu.2-4:m69"
  },
  "kernelspec": {
   "display_name": "Python [conda env:root] *",
   "language": "python",
   "name": "conda-root-py"
  },
  "language_info": {
   "codemirror_mode": {
    "name": "ipython",
    "version": 3
   },
   "file_extension": ".py",
   "mimetype": "text/x-python",
   "name": "python",
   "nbconvert_exporter": "python",
   "pygments_lexer": "ipython3",
   "version": "3.7.10"
  }
 },
 "nbformat": 4,
 "nbformat_minor": 5
}
