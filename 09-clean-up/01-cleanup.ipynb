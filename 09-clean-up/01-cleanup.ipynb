{
 "cells": [
  {
   "cell_type": "markdown",
   "id": "d1fcc833",
   "metadata": {},
   "source": [
    "# Clean-up"
   ]
  },
  {
   "cell_type": "code",
   "execution_count": 5,
   "id": "66933c9f",
   "metadata": {},
   "outputs": [],
   "source": [
    "import os\n",
    "import pprint\n",
    "import pandas as pd\n",
    "import tensorflow as tf\n",
    "import time\n",
    "\n",
    "from google.cloud import bigquery\n",
    "from google.cloud import exceptions\n",
    "from google.cloud import aiplatform as vertex_ai\n",
    "from google.cloud.aiplatform_v1beta1 import types"
   ]
  },
  {
   "cell_type": "markdown",
   "id": "0ac91621",
   "metadata": {},
   "source": [
    "## Configure GCP settings\n"
   ]
  },
  {
   "cell_type": "code",
   "execution_count": 6,
   "id": "553191f7",
   "metadata": {},
   "outputs": [
    {
     "name": "stdout",
     "output_type": "stream",
     "text": [
      "Project ID:  jk-wst1\n"
     ]
    }
   ],
   "source": [
    "PREFIX = 'jkwst1'\n",
    "\n",
    "shell_output=!gcloud config list --format 'value(core.project)' 2>/dev/null\n",
    "PROJECT = shell_output[0]\n",
    "print(\"Project ID: \", PROJECT)"
   ]
  },
  {
   "cell_type": "code",
   "execution_count": 7,
   "id": "ec8e4670",
   "metadata": {},
   "outputs": [],
   "source": [
    "REGION = 'us-central1'\n",
    "STAGING_BUCKET = f'gs://{PREFIX}-bucket'"
   ]
  },
  {
   "cell_type": "markdown",
   "id": "d618aa79",
   "metadata": {},
   "source": [
    "### Initialize Vertex AI SDK"
   ]
  },
  {
   "cell_type": "code",
   "execution_count": 8,
   "id": "ceaa1ea5",
   "metadata": {},
   "outputs": [],
   "source": [
    "vertex_ai.init(\n",
    "    project=PROJECT,\n",
    "    location=REGION,\n",
    "    staging_bucket=STAGING_BUCKET\n",
    ")"
   ]
  },
  {
   "cell_type": "markdown",
   "id": "6503e52b",
   "metadata": {},
   "source": [
    "### Undeploy models"
   ]
  },
  {
   "cell_type": "code",
   "execution_count": 9,
   "id": "7dd838d7",
   "metadata": {},
   "outputs": [],
   "source": [
    "filter = f'display_name=\"{PREFIX} Chicago taxi endpoint\"'\n",
    "\n",
    "for endpoint in vertex_ai.Endpoint.list(filter=filter):\n",
    "    endpoint.undeploy_all()\n",
    "    endpoint.delete()"
   ]
  },
  {
   "cell_type": "markdown",
   "id": "b5af8d90",
   "metadata": {},
   "source": [
    "## Delete models"
   ]
  },
  {
   "cell_type": "code",
   "execution_count": 13,
   "id": "32842cec",
   "metadata": {},
   "outputs": [
    {
     "name": "stdout",
     "output_type": "stream",
     "text": [
      "Deleting : jkwst1 Chicago taxi classifier\n",
      "INFO:google.cloud.aiplatform.base:Deleting Model : projects/630263135640/locations/us-central1/models/6526991293548068864\n",
      "INFO:google.cloud.aiplatform.base:Delete Model  backing LRO: projects/630263135640/locations/us-central1/operations/4292319946878222336\n",
      "INFO:google.cloud.aiplatform.base:Model deleted. . Resource name: projects/630263135640/locations/us-central1/models/6526991293548068864\n"
     ]
    }
   ],
   "source": [
    "filter = f'display_name=\"{PREFIX} Chicago taxi classifier\"'\n",
    "\n",
    "for model in vertex_ai.Model.list(filter=filter):\n",
    "    print('Deleting :', model.display_name)\n",
    "    model.delete()"
   ]
  },
  {
   "cell_type": "code",
   "execution_count": null,
   "id": "24fb6a32",
   "metadata": {},
   "outputs": [],
   "source": []
  }
 ],
 "metadata": {
  "environment": {
   "name": "tf2-gpu.2-5.m74",
   "type": "gcloud",
   "uri": "gcr.io/deeplearning-platform-release/tf2-gpu.2-5:m74"
  },
  "kernelspec": {
   "display_name": "Python [conda env:root] *",
   "language": "python",
   "name": "conda-root-py"
  },
  "language_info": {
   "codemirror_mode": {
    "name": "ipython",
    "version": 3
   },
   "file_extension": ".py",
   "mimetype": "text/x-python",
   "name": "python",
   "nbconvert_exporter": "python",
   "pygments_lexer": "ipython3",
   "version": "3.7.10"
  }
 },
 "nbformat": 4,
 "nbformat_minor": 5
}
