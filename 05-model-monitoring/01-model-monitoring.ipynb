{
 "cells": [
  {
   "cell_type": "markdown",
   "id": "1d9de47d",
   "metadata": {},
   "source": [
    "# Monitoring deployed models with Vertex Model Monitoring"
   ]
  },
  {
   "cell_type": "code",
   "execution_count": 1,
   "id": "d176c31c",
   "metadata": {},
   "outputs": [],
   "source": [
    "import copy\n",
    "import numpy as np\n",
    "import os\n",
    "import pprint\n",
    "import pandas as pd\n",
    "import random\n",
    "import tensorflow as tf\n",
    "import time\n",
    "\n",
    "from google.cloud import aiplatform\n",
    "from google.cloud import bigquery_datatransfer\n",
    "from google.cloud import bigquery\n",
    "\n",
    "from google.cloud.aiplatform_v1beta1.services.endpoint_service import \\\n",
    "    EndpointServiceClient\n",
    "from google.cloud.aiplatform_v1beta1.services.job_service import \\\n",
    "    JobServiceClient\n",
    "from google.cloud.aiplatform_v1beta1.services.prediction_service import \\\n",
    "    PredictionServiceClient\n",
    "from google.cloud.aiplatform_v1beta1.types.io import BigQuerySource\n",
    "from google.cloud.aiplatform_v1beta1.types.model_deployment_monitoring_job import (\n",
    "    ModelDeploymentMonitoringJob, ModelDeploymentMonitoringObjectiveConfig,\n",
    "    ModelDeploymentMonitoringScheduleConfig)\n",
    "from google.cloud.aiplatform_v1beta1.types.model_monitoring import (\n",
    "    ModelMonitoringAlertConfig, ModelMonitoringObjectiveConfig,\n",
    "    SamplingStrategy, ThresholdConfig)\n",
    "from google.cloud.aiplatform_v1beta1.types.prediction_service import \\\n",
    "    PredictRequest\n",
    "\n",
    "from google.protobuf import json_format\n",
    "from google.protobuf.duration_pb2 import Duration\n",
    "from google.protobuf.struct_pb2 import Value"
   ]
  },
  {
   "cell_type": "markdown",
   "id": "04cc653b",
   "metadata": {},
   "source": [
    "## Configure lab settings"
   ]
  },
  {
   "cell_type": "code",
   "execution_count": 7,
   "id": "92f946c7",
   "metadata": {},
   "outputs": [],
   "source": [
    "PROJECT_ID = 'jk-wst1'\n",
    "REGION = 'us-central1'\n",
    "PREFIX = 'jkwst1'\n",
    "\n",
    "STAGING_BUCKET = f'gs://{PREFIX}-bucket'\n",
    "VERTEX_SA = f'{PREFIX}-training-sa@{PROJECT_ID}.iam.gserviceaccount.com'\n",
    "\n",
    "API_ENDPOINT = f'{REGION}-aiplatform.googleapis.com'\n",
    "PREDICT_API_ENDPOINT = f'{REGION}-prediction-aiplatform.googleapis.com'\n",
    "\n",
    "ENDPOINT_DISPLAY_NAME = f'{PREFIX} Chicago taxi endpoint'\n",
    "\n",
    "BQ_DATASET_NAME = f'{PREFIX}_dataset' \n",
    "BQ_TRAIN_SPLIT_NAME = 'training'\n",
    "BQ_VALID_SPLIT_NAME = 'validation'\n",
    "BQ_TEST_SPLIT_NAME = 'testing'\n",
    "BQ_LOCATION = REGION"
   ]
  },
  {
   "cell_type": "markdown",
   "id": "c62ae4a7",
   "metadata": {},
   "source": [
    "## Test the deployed model"
   ]
  },
  {
   "cell_type": "code",
   "execution_count": 8,
   "id": "e469543b",
   "metadata": {},
   "outputs": [
    {
     "name": "stdout",
     "output_type": "stream",
     "text": [
      "<google.cloud.aiplatform.models.Endpoint object at 0x7f00b5a58510> \n",
      "resource name: projects/630263135640/locations/us-central1/endpoints/3418003418755629056\n"
     ]
    }
   ],
   "source": [
    "filter = f'display_name=\"{ENDPOINT_DISPLAY_NAME}\"'\n",
    "\n",
    "endpoint_info = None\n",
    "for endpoint_info in aiplatform.Endpoint.list(filter=filter):\n",
    "    print(endpoint_info)\n",
    "    \n",
    "if endpoint_info:    \n",
    "    endpoint = aiplatform.Endpoint(endpoint_info.resource_name)\n",
    "    ENDPOINT_ID = endpoint.resource_name\n",
    "else:\n",
    "    print('No endpoints found')"
   ]
  },
  {
   "cell_type": "code",
   "execution_count": 9,
   "id": "f177d2f1",
   "metadata": {},
   "outputs": [
    {
     "name": "stdout",
     "output_type": "stream",
     "text": [
      "Probability of tip > 20%: [[0.7745298]]\n"
     ]
    }
   ],
   "source": [
    "test_instances = [  \n",
    "    \n",
    "    {\n",
    "        \"dropoff_grid\": [\"POINT(-87.6 41.9)\"],\n",
    "        \"euclidean\": [2064.2696],\n",
    "        \"payment_type\": [\"Credit Card\"],\n",
    "        \"pickup_grid\": [\"POINT(-87.6 41.9)\"],\n",
    "        \"trip_miles\": [1.37],\n",
    "        \"trip_day\": [12],\n",
    "        \"trip_hour\": [16],\n",
    "        \"trip_month\": [2],\n",
    "        \"trip_day_of_week\": [4],\n",
    "        \"trip_seconds\": [555]\n",
    "    }\n",
    "]\n",
    "\n",
    "predictions = endpoint.predict(instances=test_instances)\n",
    "prob = tf.nn.sigmoid(predictions[0])\n",
    "print('Probability of tip > 20%:', prob.numpy())"
   ]
  },
  {
   "cell_type": "markdown",
   "id": "8a543867",
   "metadata": {},
   "source": [
    "## Starting monitoring jobs"
   ]
  },
  {
   "cell_type": "markdown",
   "id": "f7dca107",
   "metadata": {},
   "source": [
    "### Define helper functions"
   ]
  },
  {
   "cell_type": "code",
   "execution_count": 10,
   "id": "c1fef6b9",
   "metadata": {},
   "outputs": [],
   "source": [
    "def list_monitoring_jobs():\n",
    "    client_options = dict(api_endpoint=API_ENDPOINT)\n",
    "    parent = f\"projects/{PROJECT_ID}/locations/{REGION}\"\n",
    "    client = JobServiceClient(client_options=client_options)\n",
    "    response = client.list_model_deployment_monitoring_jobs(parent=parent)\n",
    "    return response\n",
    "\n",
    "def get_monitoring_job(job):\n",
    "    client_options = dict(api_endpoint=API_ENDPOINT)\n",
    "    parent = f\"projects/{PROJECT_ID}/locations/{REGION}\"\n",
    "    client = JobServiceClient(client_options=client_options)\n",
    "    response = client.get_model_deployment_monitoring_job(parent=parent)\n",
    "    return response\n",
    "\n",
    "def pause_monitoring_job(job):\n",
    "    client_options = dict(api_endpoint=API_ENDPOINT)\n",
    "    client = JobServiceClient(client_options=client_options)\n",
    "    response = client.pause_model_deployment_monitoring_job(name=job)\n",
    "    print(response)\n",
    "\n",
    "def delete_monitoring_job(job):\n",
    "    client_options = dict(api_endpoint=API_ENDPOINT)\n",
    "    client = JobServiceClient(client_options=client_options)\n",
    "    response = client.delete_model_deployment_monitoring_job(name=job)\n",
    "    print(response)\n"
   ]
  },
  {
   "cell_type": "markdown",
   "id": "ed74fa70",
   "metadata": {},
   "source": [
    "### Configure the job"
   ]
  },
  {
   "cell_type": "markdown",
   "id": "ffc4defa",
   "metadata": {},
   "source": [
    "#### Configure skew and drift thresholds"
   ]
  },
  {
   "cell_type": "code",
   "execution_count": 11,
   "id": "696590c9",
   "metadata": {},
   "outputs": [],
   "source": [
    "SKEW_THRESHOLDS = {\n",
    "    'trip_month': 0.3,\n",
    "    'trip_day': 0.3,\n",
    "    'trip_day_of_week': 0.3,\n",
    "    'trip_hour': 0.3,\n",
    "    'trip_seconds': 0.3,\n",
    "    'trip_miles': 0.3,\n",
    "    'payment_type': 0.3,\n",
    "    'pickup_grid': 0.3,\n",
    "    'dropoff_grid': 0.3,\n",
    "    'euclidean': 0.3,  \n",
    "}\n",
    "\n",
    "DIRFT_THRESHOLDS = {\n",
    "    'trip_month': 0.3,\n",
    "    'trip_day': 0.3,\n",
    "    'trip_day_of_week': 0.3,\n",
    "    'trip_hour': 0.3,\n",
    "    'trip_seconds': 0.3,\n",
    "    'trip_miles': 0.3,\n",
    "    'payment_type': 0.3,\n",
    "    'pickup_grid': 0.3,\n",
    "    'dropoff_grid': 0.3,\n",
    "    'euclidean': 0.3, \n",
    "}\n"
   ]
  },
  {
   "cell_type": "code",
   "execution_count": 12,
   "id": "da4190e1",
   "metadata": {},
   "outputs": [],
   "source": [
    "skew_thresholds = {feature: ThresholdConfig(value=float(value)) for feature, value in SKEW_THRESHOLDS.items()}\n",
    "skew_config = ModelMonitoringObjectiveConfig.TrainingPredictionSkewDetectionConfig(\n",
    "    skew_thresholds=skew_thresholds\n",
    ")\n",
    "\n",
    "\n",
    "drift_thresholds = {feature: ThresholdConfig(value=float(value)) for feature, value in DIRFT_THRESHOLDS.items()}\n",
    "drift_config = ModelMonitoringObjectiveConfig.PredictionDriftDetectionConfig(\n",
    "    drift_thresholds=drift_thresholds\n",
    ")"
   ]
  },
  {
   "cell_type": "markdown",
   "id": "e13e059b",
   "metadata": {},
   "source": [
    "#### Configure training dataset source location\n",
    "This is used for schema generation"
   ]
  },
  {
   "cell_type": "code",
   "execution_count": 13,
   "id": "ab8fe4aa",
   "metadata": {},
   "outputs": [],
   "source": [
    "TARGET = 'tip_bin'\n",
    "BQ_TRAINING_DATA = f'bq://{PROJECT_ID}.{BQ_DATASET_NAME}.{BQ_TRAIN_SPLIT_NAME}'\n",
    "\n",
    "training_dataset = ModelMonitoringObjectiveConfig.TrainingDataset(target_field=TARGET)\n",
    "training_dataset.bigquery_source = BigQuerySource(input_uri=BQ_TRAINING_DATA)"
   ]
  },
  {
   "cell_type": "markdown",
   "id": "069d4d1f",
   "metadata": {},
   "source": [
    "#### Configure model monitoring object"
   ]
  },
  {
   "cell_type": "code",
   "execution_count": 14,
   "id": "a1695498",
   "metadata": {},
   "outputs": [],
   "source": [
    "objective_config = ModelMonitoringObjectiveConfig(\n",
    "    training_dataset=training_dataset,\n",
    "    training_prediction_skew_detection_config=skew_config,\n",
    "    prediction_drift_detection_config=drift_config,\n",
    ")\n",
    "objective_template = ModelDeploymentMonitoringObjectiveConfig(\n",
    "    objective_config=objective_config\n",
    ")"
   ]
  },
  {
   "cell_type": "markdown",
   "id": "d9a9e09e",
   "metadata": {},
   "source": [
    "#### Get all deployed model ids on the monitored endpoint"
   ]
  },
  {
   "cell_type": "code",
   "execution_count": 15,
   "id": "0a64fea6",
   "metadata": {},
   "outputs": [
    {
     "data": {
      "text/plain": [
       "['4309082826277388288']"
      ]
     },
     "execution_count": 15,
     "metadata": {},
     "output_type": "execute_result"
    }
   ],
   "source": [
    "client = EndpointServiceClient(client_options=dict(api_endpoint=API_ENDPOINT))\n",
    "response = client.get_endpoint(name=ENDPOINT_ID)\n",
    "model_ids = []\n",
    "for model in response.deployed_models:\n",
    "    model_ids.append(model.id)\n",
    "model_ids"
   ]
  },
  {
   "cell_type": "markdown",
   "id": "517f0ed6",
   "metadata": {},
   "source": [
    "#### Set objectives for each deployed model"
   ]
  },
  {
   "cell_type": "code",
   "execution_count": 16,
   "id": "7f539540",
   "metadata": {},
   "outputs": [],
   "source": [
    "objective_configs = []\n",
    "for model_id in model_ids:\n",
    "    objective_config = copy.deepcopy(objective_template)\n",
    "    objective_config.deployed_model_id = model_id\n",
    "    objective_configs.append(objective_config)"
   ]
  },
  {
   "cell_type": "markdown",
   "id": "80bcf783",
   "metadata": {},
   "source": [
    "#### Configure sampling strategy"
   ]
  },
  {
   "cell_type": "code",
   "execution_count": 17,
   "id": "212a68b1",
   "metadata": {},
   "outputs": [],
   "source": [
    "LOG_SAMPLE_RATE = 0.8\n",
    "\n",
    "random_sampling = SamplingStrategy.RandomSampleConfig(sample_rate=LOG_SAMPLE_RATE)\n",
    "sampling_config = SamplingStrategy(random_sample_config=random_sampling)"
   ]
  },
  {
   "cell_type": "markdown",
   "id": "6d4b1aa3",
   "metadata": {},
   "source": [
    "#### Configure monitoring schedule"
   ]
  },
  {
   "cell_type": "code",
   "execution_count": 18,
   "id": "c449b49c",
   "metadata": {},
   "outputs": [],
   "source": [
    "MONITOR_INTERVAL = 3600\n",
    "\n",
    "duration = Duration(seconds=MONITOR_INTERVAL)\n",
    "schedule_config = ModelDeploymentMonitoringScheduleConfig(monitor_interval=duration)"
   ]
  },
  {
   "cell_type": "markdown",
   "id": "985a63cb",
   "metadata": {},
   "source": [
    "#### Configure alerting"
   ]
  },
  {
   "cell_type": "code",
   "execution_count": 19,
   "id": "69104c56",
   "metadata": {},
   "outputs": [],
   "source": [
    "NOTIFY_EMAIL = \"jarekk@gcp.solutions\"\n",
    "emails = [NOTIFY_EMAIL]\n",
    "\n",
    "email_config = ModelMonitoringAlertConfig.EmailAlertConfig(user_emails=emails)\n",
    "alerting_config = ModelMonitoringAlertConfig(email_alert_config=email_config)"
   ]
  },
  {
   "cell_type": "markdown",
   "id": "ae8b0b76",
   "metadata": {},
   "source": [
    "#### Create a monitoring job"
   ]
  },
  {
   "cell_type": "code",
   "execution_count": 20,
   "id": "42a33516",
   "metadata": {},
   "outputs": [
    {
     "name": "stdout",
     "output_type": "stream",
     "text": [
      "Created monitoring job:\n",
      "projects/630263135640/locations/us-central1/modelDeploymentMonitoringJobs/1260326198454517760\n",
      "JobState.JOB_STATE_PENDING\n"
     ]
    }
   ],
   "source": [
    "job_name = \"TAXI_MONITORING_{}\".format(time.strftime(\"%Y%m%d_%H%M%S\"))\n",
    "\n",
    "predict_schema = \"\"\n",
    "analysis_schema = \"\"\n",
    "    \n",
    "job = ModelDeploymentMonitoringJob(\n",
    "    display_name=job_name,\n",
    "    endpoint=ENDPOINT_ID,\n",
    "    model_deployment_monitoring_objective_configs=objective_configs,\n",
    "    logging_sampling_strategy=sampling_config,\n",
    "    model_deployment_monitoring_schedule_config=schedule_config,\n",
    "    model_monitoring_alert_config=alerting_config,\n",
    "    predict_instance_schema_uri=predict_schema,\n",
    "    analysis_instance_schema_uri=analysis_schema,\n",
    ")\n",
    "    \n",
    "options = dict(api_endpoint=API_ENDPOINT)\n",
    "client = JobServiceClient(client_options=options)\n",
    "\n",
    "parent = f\"projects/{PROJECT_ID}/locations/{REGION}\"\n",
    "response = client.create_model_deployment_monitoring_job(\n",
    "    parent=parent, model_deployment_monitoring_job=job\n",
    ")\n",
    "    \n",
    "print(\"Created monitoring job:\")\n",
    "print(response.name)\n",
    "print(response.state)\n",
    "job_id = response.name"
   ]
  },
  {
   "cell_type": "markdown",
   "id": "e9503e91",
   "metadata": {},
   "source": [
    "#### List monitoring jobs"
   ]
  },
  {
   "cell_type": "code",
   "execution_count": 21,
   "id": "3f9a9ab0",
   "metadata": {},
   "outputs": [
    {
     "name": "stdout",
     "output_type": "stream",
     "text": [
      "projects/630263135640/locations/us-central1/modelDeploymentMonitoringJobs/1260326198454517760 JobState.JOB_STATE_PENDING\n"
     ]
    }
   ],
   "source": [
    "for job in list_monitoring_jobs():\n",
    "    print(job.name, job.state)"
   ]
  },
  {
   "cell_type": "markdown",
   "id": "49c8a44a",
   "metadata": {},
   "source": [
    "## Generate simulated workload"
   ]
  },
  {
   "cell_type": "code",
   "execution_count": 90,
   "id": "02c86511",
   "metadata": {},
   "outputs": [
    {
     "data": {
      "text/html": [
       "<div>\n",
       "<style scoped>\n",
       "    .dataframe tbody tr th:only-of-type {\n",
       "        vertical-align: middle;\n",
       "    }\n",
       "\n",
       "    .dataframe tbody tr th {\n",
       "        vertical-align: top;\n",
       "    }\n",
       "\n",
       "    .dataframe thead th {\n",
       "        text-align: right;\n",
       "    }\n",
       "</style>\n",
       "<table border=\"1\" class=\"dataframe\">\n",
       "  <thead>\n",
       "    <tr style=\"text-align: right;\">\n",
       "      <th></th>\n",
       "      <th>trip_month</th>\n",
       "      <th>trip_day</th>\n",
       "      <th>trip_day_of_week</th>\n",
       "      <th>trip_hour</th>\n",
       "      <th>trip_seconds</th>\n",
       "      <th>trip_miles</th>\n",
       "      <th>payment_type</th>\n",
       "      <th>pickup_grid</th>\n",
       "      <th>dropoff_grid</th>\n",
       "      <th>euclidean</th>\n",
       "      <th>tip_bin</th>\n",
       "    </tr>\n",
       "  </thead>\n",
       "  <tbody>\n",
       "    <tr>\n",
       "      <th>0</th>\n",
       "      <td>2</td>\n",
       "      <td>1</td>\n",
       "      <td>7</td>\n",
       "      <td>21</td>\n",
       "      <td>39</td>\n",
       "      <td>0.01</td>\n",
       "      <td>Cash</td>\n",
       "      <td>POINT(-87.7 41.9)</td>\n",
       "      <td>POINT(-87.7 41.9)</td>\n",
       "      <td>0.0</td>\n",
       "      <td>0</td>\n",
       "    </tr>\n",
       "    <tr>\n",
       "      <th>1</th>\n",
       "      <td>6</td>\n",
       "      <td>1</td>\n",
       "      <td>2</td>\n",
       "      <td>6</td>\n",
       "      <td>25</td>\n",
       "      <td>0.06</td>\n",
       "      <td>Cash</td>\n",
       "      <td>POINT(-87.7 41.9)</td>\n",
       "      <td>POINT(-87.7 41.9)</td>\n",
       "      <td>0.0</td>\n",
       "      <td>0</td>\n",
       "    </tr>\n",
       "    <tr>\n",
       "      <th>2</th>\n",
       "      <td>2</td>\n",
       "      <td>1</td>\n",
       "      <td>7</td>\n",
       "      <td>10</td>\n",
       "      <td>329</td>\n",
       "      <td>0.70</td>\n",
       "      <td>Cash</td>\n",
       "      <td>POINT(-87.6 41.9)</td>\n",
       "      <td>POINT(-87.6 41.9)</td>\n",
       "      <td>0.0</td>\n",
       "      <td>0</td>\n",
       "    </tr>\n",
       "    <tr>\n",
       "      <th>3</th>\n",
       "      <td>2</td>\n",
       "      <td>1</td>\n",
       "      <td>7</td>\n",
       "      <td>10</td>\n",
       "      <td>134</td>\n",
       "      <td>0.36</td>\n",
       "      <td>Cash</td>\n",
       "      <td>POINT(-87.6 41.9)</td>\n",
       "      <td>POINT(-87.6 41.9)</td>\n",
       "      <td>0.0</td>\n",
       "      <td>0</td>\n",
       "    </tr>\n",
       "    <tr>\n",
       "      <th>4</th>\n",
       "      <td>6</td>\n",
       "      <td>1</td>\n",
       "      <td>2</td>\n",
       "      <td>11</td>\n",
       "      <td>481</td>\n",
       "      <td>0.43</td>\n",
       "      <td>Cash</td>\n",
       "      <td>POINT(-87.7 42)</td>\n",
       "      <td>POINT(-87.7 42)</td>\n",
       "      <td>0.0</td>\n",
       "      <td>0</td>\n",
       "    </tr>\n",
       "  </tbody>\n",
       "</table>\n",
       "</div>"
      ],
      "text/plain": [
       "   trip_month  trip_day  trip_day_of_week  trip_hour  trip_seconds  \\\n",
       "0           2         1                 7         21            39   \n",
       "1           6         1                 2          6            25   \n",
       "2           2         1                 7         10           329   \n",
       "3           2         1                 7         10           134   \n",
       "4           6         1                 2         11           481   \n",
       "\n",
       "   trip_miles payment_type        pickup_grid       dropoff_grid  euclidean  \\\n",
       "0        0.01         Cash  POINT(-87.7 41.9)  POINT(-87.7 41.9)        0.0   \n",
       "1        0.06         Cash  POINT(-87.7 41.9)  POINT(-87.7 41.9)        0.0   \n",
       "2        0.70         Cash  POINT(-87.6 41.9)  POINT(-87.6 41.9)        0.0   \n",
       "3        0.36         Cash  POINT(-87.6 41.9)  POINT(-87.6 41.9)        0.0   \n",
       "4        0.43         Cash    POINT(-87.7 42)    POINT(-87.7 42)        0.0   \n",
       "\n",
       "   tip_bin  \n",
       "0        0  \n",
       "1        0  \n",
       "2        0  \n",
       "3        0  \n",
       "4        0  "
      ]
     },
     "execution_count": 90,
     "metadata": {},
     "output_type": "execute_result"
    }
   ],
   "source": [
    "sql_script = f'''\n",
    "SELECT * \n",
    "FROM {PROJECT_ID}.{BQ_DATASET_NAME}.{BQ_TEST_SPLIT_NAME}\n",
    "'''\n",
    "\n",
    "client = bigquery.Client()\n",
    "data = client.query(sql_script).to_dataframe()\n",
    "\n",
    "data.head()"
   ]
  },
  {
   "cell_type": "code",
   "execution_count": 221,
   "id": "ecb0534f",
   "metadata": {},
   "outputs": [],
   "source": [
    "CATEGORICAL_FEATURES = {\n",
    "    'trip_month': [int(val) for val in data['trip_month'].unique()],\n",
    "    'trip_day': [int(val) for val in data['trip_day'].unique()],\n",
    "    'trip_hour': [int(val) for val in data['trip_hour'].unique()],\n",
    "    'trip_day_of_week': [int(val) for val in data['trip_day_of_week'].unique()],\n",
    "    'payment_type': [str(val) for val in data['payment_type'].unique()],\n",
    "    'pickup_grid': [str(val) for val in data['pickup_grid'].unique()],\n",
    "    'dropoff_grid': [str(val) for val in data['dropoff_grid'].unique()],\n",
    "}\n",
    "\n",
    "NUMERIC_FEATURES = {\n",
    "    'trip_miles': (data['trip_miles'].mean(), data['trip_miles'].std()),\n",
    "    'trip_seconds': (data['trip_seconds'].mean(), data['trip_seconds'].std()),\n",
    "    'euclidean': (data['euclidean'].mean(), data['euclidean'].std()),\n",
    "}\n",
    "\n",
    "\n",
    "def monitoring_test(endpoint, count=1, seconds=3, perturb_num={}, perturb_cat={}):\n",
    "    \n",
    "    for i in range(0, count):\n",
    "        instance = {}\n",
    "        for key, dict in CATEGORICAL_FEATURES.items():\n",
    "            new_dict = dict\n",
    "            if key in perturb_cat.keys():\n",
    "                new_dict = dict + perturb_cat[key]\n",
    "            instance[key] = random.choices(new_dict)\n",
    "    \n",
    "        for key, stats in NUMERIC_FEATURES.items():\n",
    "            mean = stats[0]\n",
    "            std = stats[1]\n",
    "            if key in perturb_num.keys():\n",
    "                mean = perturb_num[key][0](mean)\n",
    "                std = perturb_num[key][1](std)\n",
    "            \n",
    "            value = float(np.random.normal(mean, std, 1))\n",
    "            value = max(value, 0)\n",
    "            if key == 'trip_seconds':\n",
    "                value = max(int(value), 60)\n",
    "            instance[key] = [value]\n",
    "            \n",
    "        predictions = endpoint.predict(instances=[instance])\n",
    "        print(predictions)\n",
    "        time.sleep(seconds)\n",
    "        \n",
    "    "
   ]
  },
  {
   "cell_type": "code",
   "execution_count": null,
   "id": "6b34c349",
   "metadata": {},
   "outputs": [
    {
     "name": "stdout",
     "output_type": "stream",
     "text": [
      "Prediction(predictions=[[-10.0271759]], deployed_model_id='3328564744905818112', explanations=None)\n",
      "Prediction(predictions=[[-5.17274475]], deployed_model_id='3328564744905818112', explanations=None)\n",
      "Prediction(predictions=[[-7.02776146]], deployed_model_id='3328564744905818112', explanations=None)\n",
      "Prediction(predictions=[[-7.47582626]], deployed_model_id='3328564744905818112', explanations=None)\n",
      "Prediction(predictions=[[-9.60560417]], deployed_model_id='3328564744905818112', explanations=None)\n",
      "Prediction(predictions=[[-0.753469]], deployed_model_id='3328564744905818112', explanations=None)\n",
      "Prediction(predictions=[[0.545983076]], deployed_model_id='3328564744905818112', explanations=None)\n",
      "Prediction(predictions=[[-9.26857853]], deployed_model_id='3328564744905818112', explanations=None)\n",
      "Prediction(predictions=[[-0.242768645]], deployed_model_id='3328564744905818112', explanations=None)\n",
      "Prediction(predictions=[[-12.4206724]], deployed_model_id='3328564744905818112', explanations=None)\n",
      "Prediction(predictions=[[-5.54626799]], deployed_model_id='3328564744905818112', explanations=None)\n",
      "Prediction(predictions=[[-0.649113655]], deployed_model_id='3328564744905818112', explanations=None)\n",
      "Prediction(predictions=[[-4.13367128]], deployed_model_id='3328564744905818112', explanations=None)\n",
      "Prediction(predictions=[[-8.99728203]], deployed_model_id='3328564744905818112', explanations=None)\n",
      "Prediction(predictions=[[-5.77233124]], deployed_model_id='3328564744905818112', explanations=None)\n",
      "Prediction(predictions=[[-7.49602604]], deployed_model_id='3328564744905818112', explanations=None)\n",
      "Prediction(predictions=[[-6.72140312]], deployed_model_id='3328564744905818112', explanations=None)\n",
      "Prediction(predictions=[[-15.9106169]], deployed_model_id='3328564744905818112', explanations=None)\n",
      "Prediction(predictions=[[0.69481945]], deployed_model_id='3328564744905818112', explanations=None)\n",
      "Prediction(predictions=[[-4.02936125]], deployed_model_id='3328564744905818112', explanations=None)\n",
      "Prediction(predictions=[[-7.01311111]], deployed_model_id='3328564744905818112', explanations=None)\n",
      "Prediction(predictions=[[-0.371073]], deployed_model_id='3328564744905818112', explanations=None)\n",
      "Prediction(predictions=[[-12.7393007]], deployed_model_id='3328564744905818112', explanations=None)\n",
      "Prediction(predictions=[[-5.61011696]], deployed_model_id='3328564744905818112', explanations=None)\n",
      "Prediction(predictions=[[-0.165345132]], deployed_model_id='3328564744905818112', explanations=None)\n",
      "Prediction(predictions=[[-6.20079613]], deployed_model_id='3328564744905818112', explanations=None)\n",
      "Prediction(predictions=[[0.637988269]], deployed_model_id='3328564744905818112', explanations=None)\n",
      "Prediction(predictions=[[-3.96148109]], deployed_model_id='3328564744905818112', explanations=None)\n",
      "Prediction(predictions=[[-0.0971245766]], deployed_model_id='3328564744905818112', explanations=None)\n",
      "Prediction(predictions=[[-9.18575764]], deployed_model_id='3328564744905818112', explanations=None)\n",
      "Prediction(predictions=[[-5.43691587]], deployed_model_id='3328564744905818112', explanations=None)\n",
      "Prediction(predictions=[[-0.313011169]], deployed_model_id='3328564744905818112', explanations=None)\n",
      "Prediction(predictions=[[-1.15574622]], deployed_model_id='3328564744905818112', explanations=None)\n",
      "Prediction(predictions=[[-4.08201313]], deployed_model_id='3328564744905818112', explanations=None)\n",
      "Prediction(predictions=[[-16.3648262]], deployed_model_id='3328564744905818112', explanations=None)\n",
      "Prediction(predictions=[[-6.93886948]], deployed_model_id='3328564744905818112', explanations=None)\n",
      "Prediction(predictions=[[-14.0373182]], deployed_model_id='3328564744905818112', explanations=None)\n",
      "Prediction(predictions=[[-5.48921871]], deployed_model_id='3328564744905818112', explanations=None)\n",
      "Prediction(predictions=[[0.451780736]], deployed_model_id='3328564744905818112', explanations=None)\n",
      "Prediction(predictions=[[-0.588145137]], deployed_model_id='3328564744905818112', explanations=None)\n",
      "Prediction(predictions=[[-10.5533838]], deployed_model_id='3328564744905818112', explanations=None)\n",
      "Prediction(predictions=[[0.297057211]], deployed_model_id='3328564744905818112', explanations=None)\n",
      "Prediction(predictions=[[-12.2791843]], deployed_model_id='3328564744905818112', explanations=None)\n",
      "Prediction(predictions=[[-8.08404541]], deployed_model_id='3328564744905818112', explanations=None)\n",
      "Prediction(predictions=[[0.599844515]], deployed_model_id='3328564744905818112', explanations=None)\n",
      "Prediction(predictions=[[-3.4507556]], deployed_model_id='3328564744905818112', explanations=None)\n",
      "Prediction(predictions=[[-7.51405811]], deployed_model_id='3328564744905818112', explanations=None)\n",
      "Prediction(predictions=[[-6.87458754]], deployed_model_id='3328564744905818112', explanations=None)\n",
      "Prediction(predictions=[[-8.46989536]], deployed_model_id='3328564744905818112', explanations=None)\n",
      "Prediction(predictions=[[-14.1067991]], deployed_model_id='3328564744905818112', explanations=None)\n",
      "Prediction(predictions=[[-8.86985874]], deployed_model_id='3328564744905818112', explanations=None)\n",
      "Prediction(predictions=[[-8.10349751]], deployed_model_id='3328564744905818112', explanations=None)\n",
      "Prediction(predictions=[[-1.21088219]], deployed_model_id='3328564744905818112', explanations=None)\n",
      "Prediction(predictions=[[-5.25648594]], deployed_model_id='3328564744905818112', explanations=None)\n",
      "Prediction(predictions=[[0.709074914]], deployed_model_id='3328564744905818112', explanations=None)\n",
      "Prediction(predictions=[[-4.16674805]], deployed_model_id='3328564744905818112', explanations=None)\n",
      "Prediction(predictions=[[-13.5031328]], deployed_model_id='3328564744905818112', explanations=None)\n",
      "Prediction(predictions=[[-6.36328459]], deployed_model_id='3328564744905818112', explanations=None)\n",
      "Prediction(predictions=[[-4.13060474]], deployed_model_id='3328564744905818112', explanations=None)\n",
      "Prediction(predictions=[[0.506341815]], deployed_model_id='3328564744905818112', explanations=None)\n",
      "Prediction(predictions=[[-8.33177948]], deployed_model_id='3328564744905818112', explanations=None)\n",
      "Prediction(predictions=[[-13.0102453]], deployed_model_id='3328564744905818112', explanations=None)\n",
      "Prediction(predictions=[[0.664266]], deployed_model_id='3328564744905818112', explanations=None)\n",
      "Prediction(predictions=[[-7.84853745]], deployed_model_id='3328564744905818112', explanations=None)\n",
      "Prediction(predictions=[[-0.236486077]], deployed_model_id='3328564744905818112', explanations=None)\n",
      "Prediction(predictions=[[-13.20854]], deployed_model_id='3328564744905818112', explanations=None)\n",
      "Prediction(predictions=[[-7.8442173]], deployed_model_id='3328564744905818112', explanations=None)\n",
      "Prediction(predictions=[[-14.1885242]], deployed_model_id='3328564744905818112', explanations=None)\n",
      "Prediction(predictions=[[-0.451027632]], deployed_model_id='3328564744905818112', explanations=None)\n",
      "Prediction(predictions=[[-7.04964]], deployed_model_id='3328564744905818112', explanations=None)\n",
      "Prediction(predictions=[[-11.4070177]], deployed_model_id='3328564744905818112', explanations=None)\n",
      "Prediction(predictions=[[-9.22725201]], deployed_model_id='3328564744905818112', explanations=None)\n",
      "Prediction(predictions=[[0.541753471]], deployed_model_id='3328564744905818112', explanations=None)\n",
      "Prediction(predictions=[[-3.15957069]], deployed_model_id='3328564744905818112', explanations=None)\n",
      "Prediction(predictions=[[-6.79546]], deployed_model_id='3328564744905818112', explanations=None)\n",
      "Prediction(predictions=[[1.08585596]], deployed_model_id='3328564744905818112', explanations=None)\n",
      "Prediction(predictions=[[0.24579215]], deployed_model_id='3328564744905818112', explanations=None)\n",
      "Prediction(predictions=[[-10.266139]], deployed_model_id='3328564744905818112', explanations=None)\n",
      "Prediction(predictions=[[-9.89120102]], deployed_model_id='3328564744905818112', explanations=None)\n",
      "Prediction(predictions=[[0.578056812]], deployed_model_id='3328564744905818112', explanations=None)\n",
      "Prediction(predictions=[[-1.99972224]], deployed_model_id='3328564744905818112', explanations=None)\n",
      "Prediction(predictions=[[-6.36811876]], deployed_model_id='3328564744905818112', explanations=None)\n",
      "Prediction(predictions=[[-5.94754553]], deployed_model_id='3328564744905818112', explanations=None)\n",
      "Prediction(predictions=[[-7.87427139]], deployed_model_id='3328564744905818112', explanations=None)\n",
      "Prediction(predictions=[[-0.866366625]], deployed_model_id='3328564744905818112', explanations=None)\n",
      "Prediction(predictions=[[-12.6912546]], deployed_model_id='3328564744905818112', explanations=None)\n",
      "Prediction(predictions=[[-4.69274902]], deployed_model_id='3328564744905818112', explanations=None)\n",
      "Prediction(predictions=[[-5.92420244]], deployed_model_id='3328564744905818112', explanations=None)\n",
      "Prediction(predictions=[[-5.8273]], deployed_model_id='3328564744905818112', explanations=None)\n",
      "Prediction(predictions=[[-11.2703123]], deployed_model_id='3328564744905818112', explanations=None)\n",
      "Prediction(predictions=[[-8.52374554]], deployed_model_id='3328564744905818112', explanations=None)\n",
      "Prediction(predictions=[[-8.63382816]], deployed_model_id='3328564744905818112', explanations=None)\n",
      "Prediction(predictions=[[-7.05132246]], deployed_model_id='3328564744905818112', explanations=None)\n",
      "Prediction(predictions=[[-8.00661182]], deployed_model_id='3328564744905818112', explanations=None)\n",
      "Prediction(predictions=[[-9.1631813]], deployed_model_id='3328564744905818112', explanations=None)\n",
      "Prediction(predictions=[[0.525067151]], deployed_model_id='3328564744905818112', explanations=None)\n",
      "Prediction(predictions=[[0.799844265]], deployed_model_id='3328564744905818112', explanations=None)\n",
      "Prediction(predictions=[[-13.7370844]], deployed_model_id='3328564744905818112', explanations=None)\n",
      "Prediction(predictions=[[-4.65719843]], deployed_model_id='3328564744905818112', explanations=None)\n",
      "Prediction(predictions=[[-12.3043995]], deployed_model_id='3328564744905818112', explanations=None)\n",
      "Prediction(predictions=[[-8.52056789]], deployed_model_id='3328564744905818112', explanations=None)\n",
      "Prediction(predictions=[[-0.503243327]], deployed_model_id='3328564744905818112', explanations=None)\n",
      "Prediction(predictions=[[0.0426760912]], deployed_model_id='3328564744905818112', explanations=None)\n",
      "Prediction(predictions=[[0.726749659]], deployed_model_id='3328564744905818112', explanations=None)\n",
      "Prediction(predictions=[[0.456206381]], deployed_model_id='3328564744905818112', explanations=None)\n",
      "Prediction(predictions=[[-4.93578911]], deployed_model_id='3328564744905818112', explanations=None)\n",
      "Prediction(predictions=[[-0.291698217]], deployed_model_id='3328564744905818112', explanations=None)\n",
      "Prediction(predictions=[[0.615489364]], deployed_model_id='3328564744905818112', explanations=None)\n",
      "Prediction(predictions=[[-7.08462524]], deployed_model_id='3328564744905818112', explanations=None)\n",
      "Prediction(predictions=[[0.20601815]], deployed_model_id='3328564744905818112', explanations=None)\n",
      "Prediction(predictions=[[-7.61865139]], deployed_model_id='3328564744905818112', explanations=None)\n",
      "Prediction(predictions=[[-13.5458269]], deployed_model_id='3328564744905818112', explanations=None)\n",
      "Prediction(predictions=[[-8.93286324]], deployed_model_id='3328564744905818112', explanations=None)\n",
      "Prediction(predictions=[[-5.86420202]], deployed_model_id='3328564744905818112', explanations=None)\n",
      "Prediction(predictions=[[-6.34084]], deployed_model_id='3328564744905818112', explanations=None)\n",
      "Prediction(predictions=[[-7.29838753]], deployed_model_id='3328564744905818112', explanations=None)\n",
      "Prediction(predictions=[[-9.26351929]], deployed_model_id='3328564744905818112', explanations=None)\n",
      "Prediction(predictions=[[-0.682524085]], deployed_model_id='3328564744905818112', explanations=None)\n",
      "Prediction(predictions=[[-7.26020908]], deployed_model_id='3328564744905818112', explanations=None)\n",
      "Prediction(predictions=[[-12.8078909]], deployed_model_id='3328564744905818112', explanations=None)\n"
     ]
    }
   ],
   "source": [
    "perturb_num = {\n",
    "    'trip_seconds': (lambda x: x * 3, lambda x: x / 3)\n",
    "}\n",
    "\n",
    "perturb_cat = {\n",
    "    'trip_day_of_week': ['1', '1', '1', '1']\n",
    "}\n",
    "\n",
    "monitoring_test(endpoint, count=1000, perturb_num=perturb_num, seconds=3)"
   ]
  },
  {
   "cell_type": "code",
   "execution_count": null,
   "id": "d9c5a72e",
   "metadata": {},
   "outputs": [],
   "source": []
  }
 ],
 "metadata": {
  "environment": {
   "name": "tf2-gpu.2-5.m74",
   "type": "gcloud",
   "uri": "gcr.io/deeplearning-platform-release/tf2-gpu.2-5:m74"
  },
  "kernelspec": {
   "display_name": "Python [conda env:root] *",
   "language": "python",
   "name": "conda-root-py"
  },
  "language_info": {
   "codemirror_mode": {
    "name": "ipython",
    "version": 3
   },
   "file_extension": ".py",
   "mimetype": "text/x-python",
   "name": "python",
   "nbconvert_exporter": "python",
   "pygments_lexer": "ipython3",
   "version": "3.7.10"
  }
 },
 "nbformat": 4,
 "nbformat_minor": 5
}
