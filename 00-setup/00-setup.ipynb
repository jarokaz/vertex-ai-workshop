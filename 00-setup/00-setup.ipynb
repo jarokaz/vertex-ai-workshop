{
 "cells": [
  {
   "cell_type": "markdown",
   "metadata": {},
   "source": [
    "# Preparing the environment\n"
   ]
  },
  {
   "cell_type": "markdown",
   "metadata": {},
   "source": [
    "## Import the required packages"
   ]
  },
  {
   "cell_type": "code",
   "execution_count": 2,
   "metadata": {},
   "outputs": [],
   "source": [
    "import os\n",
    "import pprint\n",
    "import pandas as pd\n",
    "import time\n",
    "\n",
    "import matplotlib.pyplot as plt\n",
    "from google.cloud import bigquery\n",
    "from google.cloud import exceptions"
   ]
  },
  {
   "cell_type": "markdown",
   "metadata": {},
   "source": [
    "## Configure GCP settings\n",
    "\n",
    "**Change the prefix to a unique value. Use letters and digits only**"
   ]
  },
  {
   "cell_type": "code",
   "execution_count": 3,
   "metadata": {},
   "outputs": [
    {
     "name": "stdout",
     "output_type": "stream",
     "text": [
      "Project ID:  jk-wst1\n"
     ]
    }
   ],
   "source": [
    "PREFIX = 'jkwst1' #Change it to your prefix\n",
    "\n",
    "shell_output=!gcloud config list --format 'value(core.project)' 2>/dev/null\n",
    "PROJECT = shell_output[0]\n",
    "print(\"Project ID: \", PROJECT)"
   ]
  },
  {
   "cell_type": "code",
   "execution_count": 4,
   "metadata": {},
   "outputs": [],
   "source": [
    "REGION = 'us-central1'"
   ]
  },
  {
   "cell_type": "markdown",
   "metadata": {},
   "source": [
    "### Create a GCS bucket"
   ]
  },
  {
   "cell_type": "code",
   "execution_count": 8,
   "metadata": {},
   "outputs": [
    {
     "name": "stdout",
     "output_type": "stream",
     "text": [
      "Creating gs://jkwst1-bucket/...\n"
     ]
    }
   ],
   "source": [
    "!gsutil mb -l {REGION} gs://{PREFIX}-bucket"
   ]
  },
  {
   "cell_type": "markdown",
   "metadata": {},
   "source": [
    "### Create Tensorboard"
   ]
  },
  {
   "cell_type": "code",
   "execution_count": 9,
   "metadata": {},
   "outputs": [
    {
     "name": "stdout",
     "output_type": "stream",
     "text": [
      "Using endpoint [https://us-central1-aiplatform.googleapis.com/]\n",
      "Waiting for operation [2813520787984613376]...done.                            \n",
      "Created Vertex AI Tensorboard: projects/630263135640/locations/us-central1/tensorboards/5276565097790046208.\n"
     ]
    }
   ],
   "source": [
    "DISPLAY_NAME = f'{PREFIX}-tensorboard'\n",
    "\n",
    "!gcloud beta ai tensorboards create --display-name $DISPLAY_NAME \\\n",
    "  --project $PROJECT --region $REGION"
   ]
  },
  {
   "cell_type": "markdown",
   "metadata": {},
   "source": [
    "## Preparing training data in BigQuery"
   ]
  },
  {
   "cell_type": "markdown",
   "metadata": {},
   "source": [
    "### Create data splits"
   ]
  },
  {
   "cell_type": "code",
   "execution_count": 7,
   "metadata": {},
   "outputs": [],
   "source": [
    "BQ_DATASET_NAME = f'{PREFIX}_dataset' "
   ]
  },
  {
   "cell_type": "markdown",
   "metadata": {},
   "source": [
    "#### Create a BQ dataset to host the splits"
   ]
  },
  {
   "cell_type": "code",
   "execution_count": 10,
   "metadata": {},
   "outputs": [
    {
     "name": "stdout",
     "output_type": "stream",
     "text": [
      "Dataset jk-wst1.jkwst1_dataset already exists\n"
     ]
    }
   ],
   "source": [
    "client = bigquery.Client()\n",
    "\n",
    "dataset_id = f'{PROJECT}.{BQ_DATASET_NAME}'\n",
    "dataset = bigquery.Dataset(dataset_id)\n",
    "dataset.location = REGION\n",
    "\n",
    "try:\n",
    "    dataset = client.create_dataset(dataset, timeout=30)\n",
    "    print('Created dataset: ', dataset_id)\n",
    "except exceptions.Conflict:\n",
    "    print('Dataset {} already exists'.format(dataset_id))"
   ]
  },
  {
   "cell_type": "markdown",
   "metadata": {},
   "source": [
    "#### Load data splits"
   ]
  },
  {
   "cell_type": "code",
   "execution_count": 12,
   "metadata": {},
   "outputs": [
    {
     "name": "stdout",
     "output_type": "stream",
     "text": [
      "gs://workshop-datasets/datasets/taxi/features\n",
      "gs://workshop-datasets/datasets/taxi/testing\n",
      "gs://workshop-datasets/datasets/taxi/training\n",
      "gs://workshop-datasets/datasets/taxi/validation\n"
     ]
    }
   ],
   "source": [
    "GCS_PATH_TO_DATA = 'gs://workshop-datasets/datasets/taxi'\n",
    "!gsutil ls {GCS_PATH_TO_DATA}"
   ]
  },
  {
   "cell_type": "code",
   "execution_count": 13,
   "metadata": {},
   "outputs": [
    {
     "name": "stdout",
     "output_type": "stream",
     "text": [
      "Loading: gs://workshop-datasets/datasets/taxi/features to jk-wst1.jkwst1_dataset.features\n",
      "Loading: gs://workshop-datasets/datasets/taxi/training to jk-wst1.jkwst1_dataset.training\n",
      "Loading: gs://workshop-datasets/datasets/taxi/validation to jk-wst1.jkwst1_dataset.validation\n",
      "Loading: gs://workshop-datasets/datasets/taxi/testing to jk-wst1.jkwst1_dataset.testing\n"
     ]
    }
   ],
   "source": [
    "job_config = bigquery.LoadJobConfig(\n",
    "    source_format=bigquery.SourceFormat.AVRO,\n",
    "    write_disposition='WRITE_TRUNCATE'\n",
    ")\n",
    "\n",
    "for file in ['features', 'training', 'validation', 'testing']:\n",
    "    file_path = '{}/{}'.format(GCS_PATH_TO_DATA, file)\n",
    "    table_name = '{}.{}.{}'.format(PROJECT, BQ_DATASET_NAME, file)\n",
    "    load_job = client.load_table_from_uri(\n",
    "        file_path,\n",
    "        table_name,\n",
    "        job_config=job_config\n",
    "    )\n",
    "    print('Loading: {} to {}'.format(file_path, table_name))\n",
    "    load_job.result()"
   ]
  },
  {
   "cell_type": "markdown",
   "metadata": {},
   "source": [
    "#### Review the created tables"
   ]
  },
  {
   "cell_type": "code",
   "execution_count": 14,
   "metadata": {},
   "outputs": [
    {
     "data": {
      "text/html": [
       "<div>\n",
       "<style scoped>\n",
       "    .dataframe tbody tr th:only-of-type {\n",
       "        vertical-align: middle;\n",
       "    }\n",
       "\n",
       "    .dataframe tbody tr th {\n",
       "        vertical-align: top;\n",
       "    }\n",
       "\n",
       "    .dataframe thead th {\n",
       "        text-align: right;\n",
       "    }\n",
       "</style>\n",
       "<table border=\"1\" class=\"dataframe\">\n",
       "  <thead>\n",
       "    <tr style=\"text-align: right;\">\n",
       "      <th></th>\n",
       "      <th>0</th>\n",
       "      <th>1</th>\n",
       "      <th>2</th>\n",
       "      <th>3</th>\n",
       "      <th>4</th>\n",
       "    </tr>\n",
       "  </thead>\n",
       "  <tbody>\n",
       "    <tr>\n",
       "      <th>trip_month</th>\n",
       "      <td>1</td>\n",
       "      <td>1</td>\n",
       "      <td>1</td>\n",
       "      <td>1</td>\n",
       "      <td>1</td>\n",
       "    </tr>\n",
       "    <tr>\n",
       "      <th>trip_day</th>\n",
       "      <td>1</td>\n",
       "      <td>1</td>\n",
       "      <td>1</td>\n",
       "      <td>1</td>\n",
       "      <td>1</td>\n",
       "    </tr>\n",
       "    <tr>\n",
       "      <th>trip_day_of_week</th>\n",
       "      <td>4</td>\n",
       "      <td>4</td>\n",
       "      <td>4</td>\n",
       "      <td>4</td>\n",
       "      <td>4</td>\n",
       "    </tr>\n",
       "    <tr>\n",
       "      <th>trip_hour</th>\n",
       "      <td>17</td>\n",
       "      <td>16</td>\n",
       "      <td>19</td>\n",
       "      <td>0</td>\n",
       "      <td>0</td>\n",
       "    </tr>\n",
       "    <tr>\n",
       "      <th>trip_seconds</th>\n",
       "      <td>600</td>\n",
       "      <td>180</td>\n",
       "      <td>1335</td>\n",
       "      <td>300</td>\n",
       "      <td>720</td>\n",
       "    </tr>\n",
       "    <tr>\n",
       "      <th>trip_miles</th>\n",
       "      <td>1.3</td>\n",
       "      <td>0.9</td>\n",
       "      <td>7.44</td>\n",
       "      <td>0.9</td>\n",
       "      <td>3.2</td>\n",
       "    </tr>\n",
       "    <tr>\n",
       "      <th>payment_type</th>\n",
       "      <td>Cash</td>\n",
       "      <td>Credit Card</td>\n",
       "      <td>Prcard</td>\n",
       "      <td>Cash</td>\n",
       "      <td>Cash</td>\n",
       "    </tr>\n",
       "    <tr>\n",
       "      <th>pickup_grid</th>\n",
       "      <td>POINT(-87.7 42)</td>\n",
       "      <td>POINT(-87.6 41.9)</td>\n",
       "      <td>POINT(-87.7 41.9)</td>\n",
       "      <td>POINT(-87.6 41.9)</td>\n",
       "      <td>POINT(-87.6 41.9)</td>\n",
       "    </tr>\n",
       "    <tr>\n",
       "      <th>dropoff_grid</th>\n",
       "      <td>POINT(-87.6 41.9)</td>\n",
       "      <td>POINT(-87.6 41.9)</td>\n",
       "      <td>POINT(-87.6 41.9)</td>\n",
       "      <td>POINT(-87.6 41.9)</td>\n",
       "      <td>POINT(-87.7 41.9)</td>\n",
       "    </tr>\n",
       "    <tr>\n",
       "      <th>euclidean</th>\n",
       "      <td>9524.3274</td>\n",
       "      <td>0.0</td>\n",
       "      <td>8190.655447</td>\n",
       "      <td>1230.61674</td>\n",
       "      <td>3567.255865</td>\n",
       "    </tr>\n",
       "    <tr>\n",
       "      <th>tip_bin</th>\n",
       "      <td>0</td>\n",
       "      <td>0</td>\n",
       "      <td>0</td>\n",
       "      <td>0</td>\n",
       "      <td>0</td>\n",
       "    </tr>\n",
       "    <tr>\n",
       "      <th>data_split</th>\n",
       "      <td>TRAIN</td>\n",
       "      <td>TRAIN</td>\n",
       "      <td>TRAIN</td>\n",
       "      <td>TRAIN</td>\n",
       "      <td>TRAIN</td>\n",
       "    </tr>\n",
       "  </tbody>\n",
       "</table>\n",
       "</div>"
      ],
      "text/plain": [
       "                                  0                  1                  2  \\\n",
       "trip_month                        1                  1                  1   \n",
       "trip_day                          1                  1                  1   \n",
       "trip_day_of_week                  4                  4                  4   \n",
       "trip_hour                        17                 16                 19   \n",
       "trip_seconds                    600                180               1335   \n",
       "trip_miles                      1.3                0.9               7.44   \n",
       "payment_type                   Cash        Credit Card             Prcard   \n",
       "pickup_grid         POINT(-87.7 42)  POINT(-87.6 41.9)  POINT(-87.7 41.9)   \n",
       "dropoff_grid      POINT(-87.6 41.9)  POINT(-87.6 41.9)  POINT(-87.6 41.9)   \n",
       "euclidean                 9524.3274                0.0        8190.655447   \n",
       "tip_bin                           0                  0                  0   \n",
       "data_split                    TRAIN              TRAIN              TRAIN   \n",
       "\n",
       "                                  3                  4  \n",
       "trip_month                        1                  1  \n",
       "trip_day                          1                  1  \n",
       "trip_day_of_week                  4                  4  \n",
       "trip_hour                         0                  0  \n",
       "trip_seconds                    300                720  \n",
       "trip_miles                      0.9                3.2  \n",
       "payment_type                   Cash               Cash  \n",
       "pickup_grid       POINT(-87.6 41.9)  POINT(-87.6 41.9)  \n",
       "dropoff_grid      POINT(-87.6 41.9)  POINT(-87.7 41.9)  \n",
       "euclidean                1230.61674        3567.255865  \n",
       "tip_bin                           0                  0  \n",
       "data_split                    TRAIN              TRAIN  "
      ]
     },
     "execution_count": 14,
     "metadata": {},
     "output_type": "execute_result"
    }
   ],
   "source": [
    "sql_script = f'''\n",
    "SELECT * \n",
    "FROM {PROJECT}.{BQ_DATASET_NAME}.features \n",
    "LIMIT 100\n",
    "'''\n",
    "df = client.query(sql_script).result().to_dataframe()\n",
    "df.head().T"
   ]
  },
  {
   "cell_type": "code",
   "execution_count": 15,
   "metadata": {},
   "outputs": [
    {
     "data": {
      "text/html": [
       "<div>\n",
       "<style scoped>\n",
       "    .dataframe tbody tr th:only-of-type {\n",
       "        vertical-align: middle;\n",
       "    }\n",
       "\n",
       "    .dataframe tbody tr th {\n",
       "        vertical-align: top;\n",
       "    }\n",
       "\n",
       "    .dataframe thead th {\n",
       "        text-align: right;\n",
       "    }\n",
       "</style>\n",
       "<table border=\"1\" class=\"dataframe\">\n",
       "  <thead>\n",
       "    <tr style=\"text-align: right;\">\n",
       "      <th></th>\n",
       "      <th>0</th>\n",
       "      <th>1</th>\n",
       "      <th>2</th>\n",
       "      <th>3</th>\n",
       "      <th>4</th>\n",
       "    </tr>\n",
       "  </thead>\n",
       "  <tbody>\n",
       "    <tr>\n",
       "      <th>trip_month</th>\n",
       "      <td>2</td>\n",
       "      <td>2</td>\n",
       "      <td>2</td>\n",
       "      <td>2</td>\n",
       "      <td>2</td>\n",
       "    </tr>\n",
       "    <tr>\n",
       "      <th>trip_day</th>\n",
       "      <td>5</td>\n",
       "      <td>5</td>\n",
       "      <td>5</td>\n",
       "      <td>5</td>\n",
       "      <td>10</td>\n",
       "    </tr>\n",
       "    <tr>\n",
       "      <th>trip_day_of_week</th>\n",
       "      <td>4</td>\n",
       "      <td>4</td>\n",
       "      <td>4</td>\n",
       "      <td>4</td>\n",
       "      <td>2</td>\n",
       "    </tr>\n",
       "    <tr>\n",
       "      <th>trip_hour</th>\n",
       "      <td>16</td>\n",
       "      <td>16</td>\n",
       "      <td>16</td>\n",
       "      <td>18</td>\n",
       "      <td>17</td>\n",
       "    </tr>\n",
       "    <tr>\n",
       "      <th>trip_seconds</th>\n",
       "      <td>120</td>\n",
       "      <td>226</td>\n",
       "      <td>204</td>\n",
       "      <td>261</td>\n",
       "      <td>1093</td>\n",
       "    </tr>\n",
       "    <tr>\n",
       "      <th>trip_miles</th>\n",
       "      <td>0.8</td>\n",
       "      <td>0.46</td>\n",
       "      <td>0.6</td>\n",
       "      <td>0.85</td>\n",
       "      <td>0.75</td>\n",
       "    </tr>\n",
       "    <tr>\n",
       "      <th>payment_type</th>\n",
       "      <td>Cash</td>\n",
       "      <td>Cash</td>\n",
       "      <td>Cash</td>\n",
       "      <td>Cash</td>\n",
       "      <td>Cash</td>\n",
       "    </tr>\n",
       "    <tr>\n",
       "      <th>pickup_grid</th>\n",
       "      <td>POINT(-87.6 42)</td>\n",
       "      <td>POINT(-87.6 42)</td>\n",
       "      <td>POINT(-87.6 42)</td>\n",
       "      <td>POINT(-87.6 42)</td>\n",
       "      <td>POINT(-87.6 42)</td>\n",
       "    </tr>\n",
       "    <tr>\n",
       "      <th>dropoff_grid</th>\n",
       "      <td>POINT(-87.6 42)</td>\n",
       "      <td>POINT(-87.6 42)</td>\n",
       "      <td>POINT(-87.6 42)</td>\n",
       "      <td>POINT(-87.6 42)</td>\n",
       "      <td>POINT(-87.6 42)</td>\n",
       "    </tr>\n",
       "    <tr>\n",
       "      <th>euclidean</th>\n",
       "      <td>0.0</td>\n",
       "      <td>0.0</td>\n",
       "      <td>0.0</td>\n",
       "      <td>0.0</td>\n",
       "      <td>0.0</td>\n",
       "    </tr>\n",
       "    <tr>\n",
       "      <th>tip_bin</th>\n",
       "      <td>0</td>\n",
       "      <td>0</td>\n",
       "      <td>0</td>\n",
       "      <td>0</td>\n",
       "      <td>0</td>\n",
       "    </tr>\n",
       "  </tbody>\n",
       "</table>\n",
       "</div>"
      ],
      "text/plain": [
       "                                0                1                2  \\\n",
       "trip_month                      2                2                2   \n",
       "trip_day                        5                5                5   \n",
       "trip_day_of_week                4                4                4   \n",
       "trip_hour                      16               16               16   \n",
       "trip_seconds                  120              226              204   \n",
       "trip_miles                    0.8             0.46              0.6   \n",
       "payment_type                 Cash             Cash             Cash   \n",
       "pickup_grid       POINT(-87.6 42)  POINT(-87.6 42)  POINT(-87.6 42)   \n",
       "dropoff_grid      POINT(-87.6 42)  POINT(-87.6 42)  POINT(-87.6 42)   \n",
       "euclidean                     0.0              0.0              0.0   \n",
       "tip_bin                         0                0                0   \n",
       "\n",
       "                                3                4  \n",
       "trip_month                      2                2  \n",
       "trip_day                        5               10  \n",
       "trip_day_of_week                4                2  \n",
       "trip_hour                      18               17  \n",
       "trip_seconds                  261             1093  \n",
       "trip_miles                   0.85             0.75  \n",
       "payment_type                 Cash             Cash  \n",
       "pickup_grid       POINT(-87.6 42)  POINT(-87.6 42)  \n",
       "dropoff_grid      POINT(-87.6 42)  POINT(-87.6 42)  \n",
       "euclidean                     0.0              0.0  \n",
       "tip_bin                         0                0  "
      ]
     },
     "execution_count": 15,
     "metadata": {},
     "output_type": "execute_result"
    }
   ],
   "source": [
    "sql_script = f'''\n",
    "SELECT * \n",
    "FROM {PROJECT}.{BQ_DATASET_NAME}.training \n",
    "LIMIT 100\n",
    "'''\n",
    "df = client.query(sql_script).result().to_dataframe()\n",
    "df.head().T"
   ]
  },
  {
   "cell_type": "markdown",
   "metadata": {},
   "source": [
    "## Export data for batch predict"
   ]
  },
  {
   "cell_type": "code",
   "execution_count": 11,
   "metadata": {},
   "outputs": [],
   "source": [
    "gcs_path_to_instances = f'gs://{PREFIX}-bucket/batch_data/batch_instances.csv'\n",
    "BQ_TEST_SPLIT_NAME = 'testing'"
   ]
  },
  {
   "cell_type": "code",
   "execution_count": 12,
   "metadata": {},
   "outputs": [
    {
     "data": {
      "text/plain": [
       "<google.cloud.bigquery.job.extract.ExtractJob at 0x7f94fadcaf10>"
      ]
     },
     "execution_count": 12,
     "metadata": {},
     "output_type": "execute_result"
    }
   ],
   "source": [
    "dataset_ref = bigquery.DatasetReference(PROJECT, BQ_DATASET_NAME)\n",
    "table_ref = dataset_ref.table(BQ_TEST_SPLIT_NAME)\n",
    "job_config = bigquery.job.ExtractJobConfig(print_header=True, destination_format='CSV')\n",
    "\n",
    "extract_job = client.extract_table(\n",
    "    table_ref,\n",
    "    gcs_path_to_instances,\n",
    "    location=REGION,\n",
    "    job_config = job_config\n",
    ")  \n",
    "extract_job.result()  # Waits for job to complete.\n"
   ]
  },
  {
   "cell_type": "code",
   "execution_count": 13,
   "metadata": {},
   "outputs": [
    {
     "name": "stdout",
     "output_type": "stream",
     "text": [
      "gs://jkwst1-bucket/batch_data/batch_instances.csv\n"
     ]
    }
   ],
   "source": [
    "!gsutil ls {gcs_path_to_instances}"
   ]
  },
  {
   "cell_type": "code",
   "execution_count": 14,
   "metadata": {},
   "outputs": [
    {
     "name": "stdout",
     "output_type": "stream",
     "text": [
      "trip_month,trip_day,trip_day_of_week,trip_hour,trip_seconds,trip_miles,payment_type,pickup_grid,dropoff_grid,euclidean,tip_bin\n",
      "5,1,6,0,224,0.52,Cash,POINT(-87.7 42),POINT(-87.7 42),2406.0409792388746,0\n",
      "5,1,6,0,838,1.78,Cash,POINT(-87.7 42),POINT(-87.7 42),1618.4586553811107,0\n",
      "5,1,6,0,57,0.05,Cash,POINT(-87.7 42),POINT(-87.7 42),0,0\n",
      "5,1,6,0,494,1.73,Cash,POINT(-87.7 42),POINT(-87.7 42),0,0\n",
      "5,1,6,0,1"
     ]
    }
   ],
   "source": [
    "!gsutil cat -r0-400 {gcs_path_to_instances}"
   ]
  },
  {
   "cell_type": "code",
   "execution_count": null,
   "metadata": {},
   "outputs": [],
   "source": []
  }
 ],
 "metadata": {
  "colab": {
   "collapsed_sections": [],
   "name": "AI_Platform_(Unified)_SDK_AutoML_Image_Classification_Training.ipynb",
   "toc_visible": true
  },
  "environment": {
   "kernel": "python3",
   "name": "common-cpu.m93",
   "type": "gcloud",
   "uri": "gcr.io/deeplearning-platform-release/base-cpu:m93"
  },
  "kernelspec": {
   "display_name": "Python 3",
   "language": "python",
   "name": "python3"
  },
  "language_info": {
   "codemirror_mode": {
    "name": "ipython",
    "version": 3
   },
   "file_extension": ".py",
   "mimetype": "text/x-python",
   "name": "python",
   "nbconvert_exporter": "python",
   "pygments_lexer": "ipython3",
   "version": "3.7.12"
  }
 },
 "nbformat": 4,
 "nbformat_minor": 4
}
